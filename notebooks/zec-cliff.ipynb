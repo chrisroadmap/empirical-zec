{
 "cells": [
  {
   "cell_type": "code",
   "execution_count": null,
   "id": "d96f41d1",
   "metadata": {},
   "outputs": [],
   "source": [
    "import copy\n",
    "\n",
    "from fair import FAIR\n",
    "from fair.interface import fill, initialise\n",
    "from fair.io import read_properties\n",
    "import pandas as pd\n",
    "import numpy as np\n",
    "import matplotlib.pyplot as pl\n",
    "from tqdm.auto import tqdm\n",
    "from scipy.stats import linregress"
   ]
  },
  {
   "cell_type": "code",
   "execution_count": null,
   "id": "17875be6",
   "metadata": {},
   "outputs": [],
   "source": [
    "zec50_1000 = np.ones(1001) * np.nan\n",
    "ecs = np.ones(1001) * np.nan\n",
    "tcr = np.ones(1001) * np.nan\n",
    "deltaco2conc50_1000 = np.ones(1001) * np.nan\n",
    "f50_1000 = np.ones(1001) * np.nan"
   ]
  },
  {
   "cell_type": "code",
   "execution_count": null,
   "id": "12e08436",
   "metadata": {},
   "outputs": [],
   "source": [
    "scenarios = ['1pct-branch-1000PgC']"
   ]
  },
  {
   "cell_type": "code",
   "execution_count": null,
   "id": "f5828ecd",
   "metadata": {},
   "outputs": [],
   "source": [
    "conc_df = pd.read_csv('../data/1pctCO2_concentrations.csv', index_col=0)"
   ]
  },
  {
   "cell_type": "code",
   "execution_count": null,
   "id": "ca5536a8",
   "metadata": {},
   "outputs": [],
   "source": [
    "conc_df"
   ]
  },
  {
   "cell_type": "code",
   "execution_count": null,
   "id": "a72e7b1d",
   "metadata": {},
   "outputs": [],
   "source": [
    "fair_params_df = pd.read_csv('../data/calibrated_constrained_parameters.csv', index_col=0)"
   ]
  },
  {
   "cell_type": "code",
   "execution_count": null,
   "id": "0ee4f33b",
   "metadata": {},
   "outputs": [],
   "source": [
    "species = ['CO2', 'CH4', 'N2O']\n",
    "conc_properties = {\n",
    "    \"CO2\": {\n",
    "        'type': 'co2',\n",
    "        'input_mode': 'concentration',\n",
    "        'greenhouse_gas': True,\n",
    "        'aerosol_chemistry_from_emissions': False,\n",
    "        'aerosol_chemistry_from_concentration': False\n",
    "    },\n",
    "    \"CH4\": {\n",
    "        'type': 'ch4',\n",
    "        'input_mode': 'concentration',\n",
    "        'greenhouse_gas': True,\n",
    "        'aerosol_chemistry_from_emissions': False,\n",
    "        'aerosol_chemistry_from_concentration': False\n",
    "    },\n",
    "    \"N2O\": {\n",
    "        'type': 'n2o',\n",
    "        'input_mode': 'concentration',\n",
    "        'greenhouse_gas': True,\n",
    "        'aerosol_chemistry_from_emissions': False,\n",
    "        'aerosol_chemistry_from_concentration': False\n",
    "    }\n",
    "}"
   ]
  },
  {
   "cell_type": "code",
   "execution_count": null,
   "id": "6d02a50b",
   "metadata": {},
   "outputs": [],
   "source": [
    "emis_properties = {\n",
    "    \"CO2\": {\n",
    "        'type': 'co2',\n",
    "        'input_mode': 'emissions',\n",
    "        'greenhouse_gas': True,\n",
    "        'aerosol_chemistry_from_emissions': False,\n",
    "        'aerosol_chemistry_from_concentration': False\n",
    "    },\n",
    "    \"CH4\": {\n",
    "        'type': 'ch4',\n",
    "        'input_mode': 'concentration',\n",
    "        'greenhouse_gas': True,\n",
    "        'aerosol_chemistry_from_emissions': False,\n",
    "        'aerosol_chemistry_from_concentration': False\n",
    "    },\n",
    "    \"N2O\": {\n",
    "        'type': 'n2o',\n",
    "        'input_mode': 'concentration',\n",
    "        'greenhouse_gas': True,\n",
    "        'aerosol_chemistry_from_emissions': False,\n",
    "        'aerosol_chemistry_from_concentration': False\n",
    "    }\n",
    "}"
   ]
  },
  {
   "cell_type": "code",
   "execution_count": null,
   "id": "a26fe680",
   "metadata": {},
   "outputs": [],
   "source": [
    "# do one at a time\n",
    "for idx, iconf in tqdm(enumerate(fair_params_df.index), total=1001):\n",
    "    # 140 year 1pct CO2\n",
    "    fc = FAIR()\n",
    "    fc.define_time(1850, 1990, 1)\n",
    "    fc.define_configs(list(fair_params_df.index[0:1]))\n",
    "    fc.define_scenarios(scenarios)\n",
    "    fc.define_species(species, conc_properties)\n",
    "    fc.allocate()\n",
    "    fc.concentration.loc[dict(specie='CH4')] = 808.2490285\n",
    "    fc.concentration.loc[dict(specie='N2O')] = 273.021047\n",
    "    fc.concentration.loc[dict(specie='CO2')] = conc_df.values[:,None]\n",
    "    fc.fill_species_configs()\n",
    "    fill(fc.climate_configs['ocean_heat_capacity'], fair_params_df.loc[iconf,'c1':'c3'])\n",
    "    fill(fc.climate_configs['ocean_heat_transfer'], fair_params_df.loc[iconf,'kappa1':'kappa3'])\n",
    "    fill(fc.climate_configs['deep_ocean_efficacy'], fair_params_df.loc[iconf,'epsilon'])\n",
    "    fill(fc.climate_configs['gamma_autocorrelation'], fair_params_df.loc[iconf,'gamma'])\n",
    "    fill(fc.climate_configs['stochastic_run'], False)\n",
    "    fill(fc.species_configs['iirf_0'], fair_params_df.loc[iconf, 'r0'], specie='CO2')\n",
    "    fill(fc.species_configs['iirf_airborne'], fair_params_df.loc[iconf, 'rA'], specie='CO2')\n",
    "    fill(fc.species_configs['iirf_uptake'], fair_params_df.loc[iconf, 'rU'], specie='CO2')\n",
    "    fill(fc.species_configs['iirf_temperature'], fair_params_df.loc[iconf, 'rT'], specie='CO2')\n",
    "    fill(fc.species_configs[\"forcing_scale\"], fair_params_df.loc[iconf, \"scale CO2\"], specie='CO2')\n",
    "    fill(fc.species_configs['baseline_concentration'], 284.3169988, specie='CO2')\n",
    "    fill(fc.species_configs['baseline_concentration'], 808.2490285, specie='CH4')\n",
    "    fill(fc.species_configs['baseline_concentration'], 273.021047, specie='N2O')\n",
    "    fill(fc.species_configs['forcing_reference_concentration'], 284.3169988, specie='CO2')\n",
    "    fill(fc.species_configs['forcing_reference_concentration'], 808.2490285, specie='CH4')\n",
    "    fill(fc.species_configs['forcing_reference_concentration'], 273.021047, specie='N2O')\n",
    "    initialise(fc.concentration, fc.species_configs['baseline_concentration'])\n",
    "    initialise(fc.forcing, 0)\n",
    "    initialise(fc.temperature, 0)\n",
    "    initialise(fc.airborne_emissions, 0)\n",
    "    initialise(fc.cumulative_emissions, 0)\n",
    "    fc.run(progress=False)\n",
    "    # pl.plot(fc.timepoints, fc.emissions[:,0,0,0]/3.664)\n",
    "    # pl.ylim(0, 40)\n",
    "    # fc.cumulative_emissions[:, 0, 0, 0]/3.664\n",
    "    branch1000 = np.argmax(fc.cumulative_emissions[:,0,0,0].data/3.664>1000)\n",
    "    # fc.cumulative_emissions[branch1000,0,0,0].data/3.664\n",
    "\n",
    "    # re-run C-driven to branch and save out restart\n",
    "    fc = FAIR()\n",
    "    fc.define_time(1850, 1850+branch1000, 1)\n",
    "    fc.define_scenarios(scenarios)\n",
    "    fc.define_configs([iconf])\n",
    "    fc.define_species(species, conc_properties)\n",
    "    fc.allocate()\n",
    "    fc.concentration.loc[dict(specie='CH4')] = 808.2490285\n",
    "    fc.concentration.loc[dict(specie='N2O')] = 273.021047\n",
    "    fc.concentration.loc[dict(specie='CO2')] = conc_df.values[:branch1000+1,None]\n",
    "    fc.fill_species_configs()\n",
    "    fill(fc.climate_configs['ocean_heat_capacity'], fair_params_df.loc[iconf,'c1':'c3'])\n",
    "    fill(fc.climate_configs['ocean_heat_transfer'], fair_params_df.loc[iconf,'kappa1':'kappa3'])\n",
    "    fill(fc.climate_configs['deep_ocean_efficacy'], fair_params_df.loc[iconf,'epsilon'])\n",
    "    fill(fc.climate_configs['gamma_autocorrelation'], fair_params_df.loc[iconf,'gamma'])\n",
    "    fill(fc.climate_configs['stochastic_run'], False)\n",
    "    fill(fc.species_configs['iirf_0'], fair_params_df.loc[iconf, 'r0'], specie='CO2')\n",
    "    fill(fc.species_configs['iirf_airborne'], fair_params_df.loc[iconf, 'rA'], specie='CO2')\n",
    "    fill(fc.species_configs['iirf_uptake'], fair_params_df.loc[iconf, 'rU'], specie='CO2')\n",
    "    fill(fc.species_configs['iirf_temperature'], fair_params_df.loc[iconf, 'rT'], specie='CO2')\n",
    "    fill(fc.species_configs[\"forcing_scale\"], fair_params_df.loc[iconf, \"scale CO2\"], specie='CO2')\n",
    "    fill(fc.species_configs['baseline_concentration'], 284.3169988, specie='CO2')\n",
    "    fill(fc.species_configs['baseline_concentration'], 808.2490285, specie='CH4')\n",
    "    fill(fc.species_configs['baseline_concentration'], 273.021047, specie='N2O')\n",
    "    fill(fc.species_configs['forcing_reference_concentration'], 284.3169988, specie='CO2')\n",
    "    fill(fc.species_configs['forcing_reference_concentration'], 808.2490285, specie='CH4')\n",
    "    fill(fc.species_configs['forcing_reference_concentration'], 273.021047, specie='N2O')\n",
    "    initialise(fc.concentration, fc.species_configs['baseline_concentration'])\n",
    "    initialise(fc.forcing, 0)\n",
    "    initialise(fc.temperature, 0)\n",
    "    initialise(fc.airborne_emissions, 0)\n",
    "    initialise(fc.cumulative_emissions, 0)\n",
    "    fc.run(progress=False)\n",
    "    # fc.airborne_emissions[-1,0,0,0].data/3.664\n",
    "    # fc.airborne_fraction[-1,0,0,0].data\n",
    "    # fc.gas_partitions[0,0,0,:].data\n",
    "\n",
    "    # Switch to emissions driven with zero emissions and run for 100 years.\n",
    "    fe = FAIR()\n",
    "    fe.define_time(1850+branch1000, 1850+branch1000+100, 1)\n",
    "    fe.define_scenarios(['1pct-branch-1000PgC'])\n",
    "    fe.define_configs([iconf])\n",
    "    fe.define_species(species, emis_properties)\n",
    "    fe.allocate()\n",
    "    fe.concentration.loc[dict(specie='CH4')] = 808.2490285\n",
    "    fe.concentration.loc[dict(specie='N2O')] = 273.021047\n",
    "    fe.emissions.loc[dict(specie='CO2')] = 0\n",
    "    fe.fill_species_configs()\n",
    "    fill(fe.climate_configs['ocean_heat_capacity'], fair_params_df.loc[iconf,'c1':'c3'])\n",
    "    fill(fe.climate_configs['ocean_heat_transfer'], fair_params_df.loc[iconf,'kappa1':'kappa3'])\n",
    "    fill(fe.climate_configs['deep_ocean_efficacy'], fair_params_df.loc[iconf,'epsilon'])\n",
    "    fill(fe.climate_configs['gamma_autocorrelation'], fair_params_df.loc[iconf,'gamma'])\n",
    "    fill(fe.climate_configs['stochastic_run'], False)\n",
    "    fill(fe.species_configs['iirf_0'], fair_params_df.loc[iconf, 'r0'], specie='CO2')\n",
    "    fill(fe.species_configs['iirf_airborne'], fair_params_df.loc[iconf, 'rA'], specie='CO2')\n",
    "    fill(fe.species_configs['iirf_uptake'], fair_params_df.loc[iconf, 'rU'], specie='CO2')\n",
    "    fill(fe.species_configs['iirf_temperature'], fair_params_df.loc[iconf, 'rT'], specie='CO2')\n",
    "    fill(fe.species_configs[\"forcing_scale\"], fair_params_df.loc[iconf, \"scale CO2\"], specie='CO2')\n",
    "    fill(fe.species_configs['baseline_concentration'], 284.3169988, specie='CO2')\n",
    "    fill(fe.species_configs['baseline_concentration'], 808.2490285, specie='CH4')\n",
    "    fill(fe.species_configs['baseline_concentration'], 273.021047, specie='N2O')\n",
    "    fill(fe.species_configs['forcing_reference_concentration'], 284.3169988, specie='CO2')\n",
    "    fill(fe.species_configs['forcing_reference_concentration'], 808.2490285, specie='CH4')\n",
    "    fill(fe.species_configs['forcing_reference_concentration'], 273.021047, specie='N2O')\n",
    "    initialise(fe.concentration, fc.concentration[-1, ...])\n",
    "    initialise(fe.forcing, fc.forcing[-1, ...])\n",
    "    initialise(fe.temperature, fc.temperature[-1, ...])\n",
    "    initialise(fe.airborne_emissions, fc.airborne_emissions[-1, ...])\n",
    "    initialise(fe.cumulative_emissions, fc.cumulative_emissions[-1, ...])\n",
    "    initialise(fe.alpha_lifetime, fc.alpha_lifetime[-1, ...])\n",
    "    fe.gas_partitions=fc.gas_partitions.copy()\n",
    "    fe.run(progress=False)\n",
    "    \n",
    "    zec50_1000[idx] = fe.temperature[50,0,0,0] - fe.temperature[0,0,0,0]\n",
    "    ecs[idx] = fe.ebms.ecs.data[0]\n",
    "    tcr[idx] = fe.ebms.tcr.data[0]\n",
    "    deltaco2conc50_1000[idx] = fe.concentration[50,0,0,0] - fe.concentration[0,0,0,0]\n",
    "    f50_1000[idx] = fe.forcing[50,0,0,0] - fe.forcing[0,0,0,0]"
   ]
  },
  {
   "cell_type": "code",
   "execution_count": null,
   "id": "79f51258",
   "metadata": {},
   "outputs": [],
   "source": [
    "pl.plot(fc.timepoints, fc.emissions[:, 0, 0, 0])\n",
    "pl.plot(fe.timepoints, fe.emissions[:, 0, 0, 0])"
   ]
  },
  {
   "cell_type": "code",
   "execution_count": null,
   "id": "19a3a641",
   "metadata": {},
   "outputs": [],
   "source": [
    "pl.plot(fc.timebounds, fc.concentration[:, 0, 0, 0])\n",
    "pl.plot(fe.timebounds, fe.concentration[:, 0, 0, 0])"
   ]
  },
  {
   "cell_type": "code",
   "execution_count": null,
   "id": "2ac9d372",
   "metadata": {},
   "outputs": [],
   "source": [
    "pl.plot(fc.timebounds, fc.forcing[:, 0, 0, 0])\n",
    "pl.plot(fe.timebounds, fe.forcing[:, 0, 0, 0])"
   ]
  },
  {
   "cell_type": "code",
   "execution_count": null,
   "id": "9cba73b9",
   "metadata": {},
   "outputs": [],
   "source": [
    "pl.plot(fc.timebounds, fc.temperature[:, 0, 0, 0])\n",
    "pl.plot(fe.timebounds, fe.temperature[:, 0, 0, 0])"
   ]
  },
  {
   "cell_type": "code",
   "execution_count": null,
   "id": "8ced1703",
   "metadata": {},
   "outputs": [],
   "source": [
    "pl.plot(fc.timebounds, fc.cumulative_emissions[:, 0, 0, 0])\n",
    "pl.plot(fe.timebounds, fe.cumulative_emissions[:, 0, 0, 0])"
   ]
  },
  {
   "cell_type": "code",
   "execution_count": null,
   "id": "5aad68de",
   "metadata": {},
   "outputs": [],
   "source": [
    "pl.plot(fc.timebounds, fc.airborne_fraction[:, 0, 0, 0])\n",
    "pl.plot(fe.timebounds, fe.airborne_fraction[:, 0, 0, 0])"
   ]
  },
  {
   "cell_type": "code",
   "execution_count": null,
   "id": "af2d0ff6",
   "metadata": {},
   "outputs": [],
   "source": [
    "df = pd.DataFrame(\n",
    "    np.array([\n",
    "        zec50_1000,\n",
    "        ecs,\n",
    "        tcr,\n",
    "        deltaco2conc50_1000,\n",
    "        f50_1000\n",
    "    ]).T,\n",
    "    index=fair_params_df.index, \n",
    "    columns=['zec50_1000', 'ecs', 'tcr', 'deltaco2conc50_1000', 'f50_1000']\n",
    ")"
   ]
  },
  {
   "cell_type": "code",
   "execution_count": null,
   "id": "5fc2775b",
   "metadata": {},
   "outputs": [],
   "source": [
    "df"
   ]
  },
  {
   "cell_type": "code",
   "execution_count": null,
   "id": "68c7f7f2",
   "metadata": {},
   "outputs": [],
   "source": [
    "df.to_csv('../data/zec_esm-cliff_ecs_tcr_co2.csv')"
   ]
  },
  {
   "cell_type": "code",
   "execution_count": null,
   "id": "552593b0",
   "metadata": {},
   "outputs": [],
   "source": []
  }
 ],
 "metadata": {
  "kernelspec": {
   "display_name": "Python 3 (ipykernel)",
   "language": "python",
   "name": "python3"
  },
  "language_info": {
   "codemirror_mode": {
    "name": "ipython",
    "version": 3
   },
   "file_extension": ".py",
   "mimetype": "text/x-python",
   "name": "python",
   "nbconvert_exporter": "python",
   "pygments_lexer": "ipython3",
   "version": "3.11.3"
  }
 },
 "nbformat": 4,
 "nbformat_minor": 5
}
