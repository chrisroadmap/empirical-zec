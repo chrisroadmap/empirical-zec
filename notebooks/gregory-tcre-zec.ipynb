{
 "cells": [
  {
   "cell_type": "markdown",
   "id": "0",
   "metadata": {},
   "source": [
    "# Make the Gregory style plot for C1 scenarios for TCRE and ZEC from CO2 only runs"
   ]
  },
  {
   "cell_type": "code",
   "execution_count": null,
   "id": "1",
   "metadata": {},
   "outputs": [],
   "source": [
    "import logging\n",
    "\n",
    "import pandas as pd\n",
    "import numpy as np\n",
    "import matplotlib.pyplot as pl\n",
    "import matplotlib as mpl\n",
    "\n",
    "from fair import FAIR\n",
    "from fair.interface import fill, initialise\n",
    "from fair.io import read_properties\n",
    "from scipy.stats import linregress"
   ]
  },
  {
   "cell_type": "code",
   "execution_count": null,
   "id": "2",
   "metadata": {},
   "outputs": [],
   "source": [
    "logger = logging.getLogger('fair')\n",
    "logger.setLevel(level=logging.CRITICAL)"
   ]
  },
  {
   "cell_type": "code",
   "execution_count": null,
   "id": "3",
   "metadata": {},
   "outputs": [],
   "source": [
    "pl.style.use('../defaults.mplstyle')"
   ]
  },
  {
   "cell_type": "code",
   "execution_count": null,
   "id": "4",
   "metadata": {},
   "outputs": [],
   "source": [
    "emis_future = np.load(\"../data/co2_emissions_c1.npy\")  # C1 emissions scenarios starting in 1995"
   ]
  },
  {
   "cell_type": "code",
   "execution_count": null,
   "id": "5",
   "metadata": {},
   "outputs": [],
   "source": [
    "emis_future.shape"
   ]
  },
  {
   "cell_type": "code",
   "execution_count": null,
   "id": "6",
   "metadata": {},
   "outputs": [],
   "source": [
    "# First, remove three scenarios which don't reach net zero\n",
    "emis_future[-1,:] > 0"
   ]
  },
  {
   "cell_type": "code",
   "execution_count": null,
   "id": "7",
   "metadata": {},
   "outputs": [],
   "source": [
    "emis_future = emis_future[:,emis_future[-1,:] < 0]"
   ]
  },
  {
   "cell_type": "code",
   "execution_count": null,
   "id": "8",
   "metadata": {},
   "outputs": [],
   "source": [
    "emis_future.shape"
   ]
  },
  {
   "cell_type": "code",
   "execution_count": null,
   "id": "9",
   "metadata": {},
   "outputs": [],
   "source": [
    "# then, ensure we pull in the full historical\n",
    "emis = np.ones((351, 94)) * np.nan"
   ]
  },
  {
   "cell_type": "code",
   "execution_count": null,
   "id": "10",
   "metadata": {},
   "outputs": [],
   "source": [
    "df_hist = pd.read_csv('../data/historical_emissions.csv')\n",
    "emis_hist = (\n",
    "    df_hist.loc[df_hist['Variable']=='Emissions|CO2|MAGICC AFOLU', '1750':'1994'].values +\n",
    "    df_hist.loc[df_hist['Variable']=='Emissions|CO2|MAGICC Fossil and Industrial', '1750':'1994'].values\n",
    ").squeeze()/1000"
   ]
  },
  {
   "cell_type": "code",
   "execution_count": null,
   "id": "11",
   "metadata": {},
   "outputs": [],
   "source": [
    "emis[:245, :] = emis_hist[:, None]"
   ]
  },
  {
   "cell_type": "code",
   "execution_count": null,
   "id": "12",
   "metadata": {},
   "outputs": [],
   "source": [
    "emis[245:, :] = emis_future"
   ]
  },
  {
   "cell_type": "code",
   "execution_count": null,
   "id": "13",
   "metadata": {},
   "outputs": [],
   "source": [
    "first_negative_year = np.argmin(emis>0, axis=0)"
   ]
  },
  {
   "cell_type": "code",
   "execution_count": null,
   "id": "14",
   "metadata": {},
   "outputs": [],
   "source": [
    "first_negative_year  # bear in mind these are \"timepoints\" so are year+.5"
   ]
  },
  {
   "cell_type": "code",
   "execution_count": null,
   "id": "15",
   "metadata": {},
   "outputs": [],
   "source": [
    "# the appropriate timebound is the one with the same label as first_negative_year, occurring at the whole number year\n",
    "emis[first_negative_year[0]-1, 0], emis[first_negative_year[0], 0]"
   ]
  },
  {
   "cell_type": "code",
   "execution_count": null,
   "id": "16",
   "metadata": {},
   "outputs": [],
   "source": [
    "# cumulative net negative CO2 emissions from year of net zero to 2100 (GtCO2)\n",
    "cumulative_positive_1750_to_nz = np.ones(94) * np.nan\n",
    "cumulative_negative_nz_to_2100 = np.ones(94) * np.nan\n",
    "\n",
    "for i, year in enumerate(first_negative_year):\n",
    "    cumulative_positive_1750_to_nz[i] = np.cumsum(emis[:year, i])[-1] / 1000\n",
    "    cumulative_negative_nz_to_2100[i] = np.cumsum(emis[year:, i])[-1] / 1000"
   ]
  },
  {
   "cell_type": "code",
   "execution_count": null,
   "id": "17",
   "metadata": {},
   "outputs": [],
   "source": [
    "# this suggests that the split is correct\n",
    "np.cumsum(emis[:year, i])[-1]/1000, np.cumsum(emis[year:, i])[0] / 1000"
   ]
  },
  {
   "cell_type": "code",
   "execution_count": null,
   "id": "18",
   "metadata": {},
   "outputs": [],
   "source": [
    "cumulative_positive_1750_to_nz  # TtCO2 each scenario (x94) 1750 to net zero"
   ]
  },
  {
   "cell_type": "code",
   "execution_count": null,
   "id": "19",
   "metadata": {},
   "outputs": [],
   "source": [
    "cumulative_negative_nz_to_2100  # unit: TtCO2 in each scenario (x94) from net zero to 2100"
   ]
  },
  {
   "cell_type": "markdown",
   "id": "20",
   "metadata": {},
   "source": [
    "## now run fair and calculate warming at different points\n",
    "- 1750 to peak T (positive phase)\n",
    "- 1750 to T @ net zero (positive phase)\n",
    "- peak T to end of century temperature (negative phase)\n",
    "- T @ net zero to end of century (negative phase)\n",
    "\n",
    "As with cumulative emissions, the net zero point should be determined using the same label as net zero year (timebound before timepoint where first negative value encountered)"
   ]
  },
  {
   "cell_type": "code",
   "execution_count": null,
   "id": "21",
   "metadata": {},
   "outputs": [],
   "source": [
    "f = FAIR()\n",
    "scenarios = np.arange(94)\n",
    "f.define_scenarios(scenarios)"
   ]
  },
  {
   "cell_type": "code",
   "execution_count": null,
   "id": "22",
   "metadata": {},
   "outputs": [],
   "source": [
    "fair_params_1_4_1_file = '../data/calibrated_constrained_parameters_1.4.1.csv'\n",
    "fair_species_configs_1_4_1_file = '../data/species_configs_properties_1.4.1.csv'"
   ]
  },
  {
   "cell_type": "code",
   "execution_count": null,
   "id": "23",
   "metadata": {},
   "outputs": [],
   "source": [
    "df_configs = pd.read_csv(fair_params_1_4_1_file, index_col=0)\n",
    "configs = df_configs.index  # this is used as a label for the \"config\" axis\n",
    "f.define_configs(configs)"
   ]
  },
  {
   "cell_type": "code",
   "execution_count": null,
   "id": "24",
   "metadata": {},
   "outputs": [],
   "source": [
    "species = ['CO2', 'CH4', 'N2O']\n",
    "properties = {\n",
    "    \"CO2\": {\n",
    "        'type': 'co2',\n",
    "        'input_mode': 'emissions',\n",
    "        'greenhouse_gas': True,\n",
    "        'aerosol_chemistry_from_emissions': False,\n",
    "        'aerosol_chemistry_from_concentration': False\n",
    "    },\n",
    "    \"CH4\": {\n",
    "        'type': 'ch4',\n",
    "        'input_mode': 'concentration',\n",
    "        'greenhouse_gas': True,\n",
    "        'aerosol_chemistry_from_emissions': False,\n",
    "        'aerosol_chemistry_from_concentration': False\n",
    "    },\n",
    "    \"N2O\": {\n",
    "        'type': 'n2o',\n",
    "        'input_mode': 'concentration',\n",
    "        'greenhouse_gas': True,\n",
    "        'aerosol_chemistry_from_emissions': False,\n",
    "        'aerosol_chemistry_from_concentration': False\n",
    "    }\n",
    "}"
   ]
  },
  {
   "cell_type": "code",
   "execution_count": null,
   "id": "25",
   "metadata": {},
   "outputs": [],
   "source": [
    "f.define_species(species, properties)"
   ]
  },
  {
   "cell_type": "code",
   "execution_count": null,
   "id": "26",
   "metadata": {},
   "outputs": [],
   "source": [
    "f.define_time(1750, 2101, 1)"
   ]
  },
  {
   "cell_type": "code",
   "execution_count": null,
   "id": "27",
   "metadata": {},
   "outputs": [],
   "source": [
    "f.allocate()"
   ]
  },
  {
   "cell_type": "code",
   "execution_count": null,
   "id": "28",
   "metadata": {},
   "outputs": [],
   "source": [
    "f.concentration.loc[dict(specie=\"CH4\")] = 729.2\n",
    "f.concentration.loc[dict(specie=\"N2O\")] = 270.1"
   ]
  },
  {
   "cell_type": "code",
   "execution_count": null,
   "id": "29",
   "metadata": {},
   "outputs": [],
   "source": [
    "f.emissions.loc[dict(specie=\"CO2\")] = emis[..., None]"
   ]
  },
  {
   "cell_type": "code",
   "execution_count": null,
   "id": "30",
   "metadata": {},
   "outputs": [],
   "source": [
    "f.fill_species_configs(fair_species_configs_1_4_1_file)"
   ]
  },
  {
   "cell_type": "code",
   "execution_count": null,
   "id": "31",
   "metadata": {},
   "outputs": [],
   "source": [
    "f.override_defaults(fair_params_1_4_1_file)"
   ]
  },
  {
   "cell_type": "code",
   "execution_count": null,
   "id": "32",
   "metadata": {},
   "outputs": [],
   "source": [
    "initialise(f.concentration, f.species_configs[\"baseline_concentration\"])\n",
    "initialise(f.forcing, 0)\n",
    "initialise(f.temperature, 0)\n",
    "initialise(f.cumulative_emissions, 0)\n",
    "initialise(f.airborne_emissions, 0)\n",
    "initialise(f.ocean_heat_content_change, 0)"
   ]
  },
  {
   "cell_type": "code",
   "execution_count": null,
   "id": "33",
   "metadata": {},
   "outputs": [],
   "source": [
    "f.run()"
   ]
  },
  {
   "cell_type": "code",
   "execution_count": null,
   "id": "34",
   "metadata": {},
   "outputs": [],
   "source": [
    "f.temperature.sel(layer=0).shape"
   ]
  },
  {
   "cell_type": "code",
   "execution_count": null,
   "id": "35",
   "metadata": {},
   "outputs": [],
   "source": [
    "temp_peakT_to_2100 = (\n",
    "    f.temperature.sel(layer=0, timebounds=2101) -\n",
    "    f.temperature.sel(layer=0).max(dim='timebounds')\n",
    ").values  # convention negative for cooling"
   ]
  },
  {
   "cell_type": "code",
   "execution_count": null,
   "id": "36",
   "metadata": {},
   "outputs": [],
   "source": [
    "#pl.plot(f.temperature.sel(layer=0, scenario=0));"
   ]
  },
  {
   "cell_type": "code",
   "execution_count": null,
   "id": "37",
   "metadata": {},
   "outputs": [],
   "source": [
    "temp_1750_to_peakT = (\n",
    "    f.temperature.sel(layer=0).max(dim='timebounds') -\n",
    "    f.temperature.sel(layer=0, timebounds=1750)  # 1750 T should be zero\n",
    ").values"
   ]
  },
  {
   "cell_type": "code",
   "execution_count": null,
   "id": "38",
   "metadata": {},
   "outputs": [],
   "source": [
    "temp_peakT_to_2100"
   ]
  },
  {
   "cell_type": "code",
   "execution_count": null,
   "id": "39",
   "metadata": {},
   "outputs": [],
   "source": [
    "temp_1750_to_peakT"
   ]
  },
  {
   "cell_type": "code",
   "execution_count": null,
   "id": "40",
   "metadata": {},
   "outputs": [],
   "source": [
    "temp_nz_to_2100 = np.ones((94, 841)) * np.nan\n",
    "for i in range(94):\n",
    "    temp_nz_to_2100[i, :] = (\n",
    "        f.temperature.sel(layer=0, scenario=i, timebounds=2101) -\n",
    "        f.temperature.sel(layer=0, scenario=i, timebounds=1750+first_negative_year[i])\n",
    "    ).values\n",
    "\n",
    "temp_1750_to_nz = np.ones((94, 841)) * np.nan\n",
    "for i in range(94):\n",
    "    temp_1750_to_nz[i, :] = (\n",
    "        f.temperature.sel(layer=0, scenario=i, timebounds=1750+first_negative_year[i]) - \n",
    "        f.temperature.sel(layer=0, scenario=i, timebounds=1750)\n",
    "    ).values"
   ]
  },
  {
   "cell_type": "code",
   "execution_count": null,
   "id": "41",
   "metadata": {},
   "outputs": [],
   "source": [
    "temp_nz_to_2100"
   ]
  },
  {
   "cell_type": "code",
   "execution_count": null,
   "id": "42",
   "metadata": {},
   "outputs": [],
   "source": [
    "temp_1750_to_nz"
   ]
  },
  {
   "cell_type": "code",
   "execution_count": null,
   "id": "43",
   "metadata": {},
   "outputs": [],
   "source": [
    "# TCRE_down is K per EgCO2: temperature divide cumulative emissions\n",
    "# notice that this method doesn't work where ZEC is strongly positive, since 2101 is highest temperature, and values bunch at zero\n",
    "pl.hist(temp_peakT_to_2100[0, :] / cumulative_negative_nz_to_2100[0], bins=20)\n",
    "pl.title('post-peak T negative TCRE (°C/TtCO2 removed, 1st scen.)')\n",
    "pl.xlabel('°C / (1000GtCO2)')"
   ]
  },
  {
   "cell_type": "code",
   "execution_count": null,
   "id": "44",
   "metadata": {},
   "outputs": [],
   "source": [
    "pl.hist(temp_nz_to_2100[0, :] / cumulative_negative_nz_to_2100[0], bins=20)\n",
    "pl.title('post-netzero negative TCRE (°C/TtCO2 removed, 1st scen.)')\n",
    "pl.xlabel('°C / (1000GtCO2)')"
   ]
  },
  {
   "cell_type": "code",
   "execution_count": null,
   "id": "45",
   "metadata": {},
   "outputs": [],
   "source": [
    "# we see the post net zero definition doesn't suffer from problem of positive ZEC\n",
    "# in fact, ZEC is aliased into the definition, which is kind of what we want\n",
    "pl.hist(temp_peakT_to_2100[0, :] / cumulative_negative_nz_to_2100[0], bins=np.arange(-0.75, 1.3, 0.05), alpha=0.4, label='post peakT')\n",
    "pl.hist(temp_nz_to_2100[0, :] / cumulative_negative_nz_to_2100[0], bins=np.arange(-0.75, 1.3, 0.05), alpha=0.4, label='post net zero')\n",
    "pl.title('comparison defs. -ve TCRE (°C/TtCO2 removed, 1st scen.)')\n",
    "pl.legend()\n",
    "pl.xlabel('°C / (1000GtCO2)')"
   ]
  },
  {
   "cell_type": "code",
   "execution_count": null,
   "id": "46",
   "metadata": {},
   "outputs": [],
   "source": [
    "pl.hist(temp_1750_to_peakT[0, :] / cumulative_positive_1750_to_nz[0], bins=np.arange(0.20, 0.82, 0.02), alpha=0.4, label='up to peakT')\n",
    "pl.hist(temp_1750_to_nz[0, :] / cumulative_positive_1750_to_nz[0], bins=np.arange(0.20, 0.82, 0.02), alpha=0.4, label='up to net zero')\n",
    "pl.title('comparison defs. +ve TCRE (°C/TtCO2 removed, 1st scen.)')\n",
    "pl.legend()\n",
    "pl.xlabel('°C / (1000GtCO2)')"
   ]
  },
  {
   "cell_type": "code",
   "execution_count": null,
   "id": "47",
   "metadata": {},
   "outputs": [],
   "source": [
    "pl.hist(\n",
    "    (temp_peakT_to_2100[0, :] / cumulative_negative_nz_to_2100[0]) / (temp_1750_to_peakT[0, :] / cumulative_positive_1750_to_nz[0]), \n",
    "bins=np.arange(-1.1, 2.7, 0.1), alpha=0.4, label='post peakT')\n",
    "pl.hist(\n",
    "    (temp_nz_to_2100[0, :] / cumulative_negative_nz_to_2100[0]) / (temp_1750_to_nz[0, :] / cumulative_positive_1750_to_nz[0]), \n",
    "bins=np.arange(-1.1, 2.7, 0.1), alpha=0.4, label='post netzero')\n",
    "#pl.hist(temp_1750_to_nz[0, :] / cumulative_positive_1750_to_nz[0], bins=np.arange(-0.75, 1.3, 0.05), alpha=0.4, label='post net zero')\n",
    "pl.title('comparison of negative/positive TCRE ratios (1st scen.)')\n",
    "pl.legend()\n",
    "pl.xlabel('°C / (1000GtCO2)')"
   ]
  },
  {
   "cell_type": "code",
   "execution_count": null,
   "id": "48",
   "metadata": {},
   "outputs": [],
   "source": [
    "# we see where we hit net zero late, we have much larger uncertainty in TCRE since cumulative CO2 divisor is small\n",
    "pl.hist(temp_peakT_to_2100[30, :] / cumulative_negative_nz_to_2100[30], bins=np.arange(-4, 5.1, 0.1), alpha=0.4, label='post peakT')\n",
    "pl.hist(temp_nz_to_2100[30, :] / cumulative_negative_nz_to_2100[30], bins=np.arange(-4, 5.1, 0.1), alpha=0.4, label='post net zero')\n",
    "pl.title('comparison defs. -ve TCRE (°C/TtCO2 removed, 31st scen.)')\n",
    "pl.legend()\n",
    "pl.xlabel('°C / (1000GtCO2)')"
   ]
  },
  {
   "cell_type": "code",
   "execution_count": null,
   "id": "49",
   "metadata": {},
   "outputs": [],
   "source": [
    "cmap = mpl.colormaps['plasma']\n",
    "# Take colors at regular intervals spanning the colormap.\n",
    "colors = cmap(np.linspace(0, 1, 841))"
   ]
  },
  {
   "cell_type": "code",
   "execution_count": null,
   "id": "50",
   "metadata": {},
   "outputs": [],
   "source": [
    "# color by tcre_up_at_netzero\n",
    "for i in range(841):\n",
    "    pl.scatter(cumulative_negative_nz_to_2100, temp_peakT_to_2100[:, i], s=1, color=colors[i])\n",
    "pl.title('All scenarios, each fair config')\n",
    "pl.xlabel('netzero cum. removal (net zero to 2100, 1000GtCO2)')\n",
    "pl.ylabel('warming, peak temperature to 2100')"
   ]
  },
  {
   "cell_type": "code",
   "execution_count": null,
   "id": "51",
   "metadata": {},
   "outputs": [],
   "source": [
    "# each coloured band is a parameter set from fair (dim 841), each vertical line is a C1 scenario (dim 94)\n",
    "sl_down_nz = np.zeros(841)\n",
    "ic_down_nz = np.zeros(841)\n",
    "for i in range(841):\n",
    "    pl.scatter(cumulative_negative_nz_to_2100, temp_nz_to_2100[:, i], s=1)\n",
    "    lr = linregress(cumulative_negative_nz_to_2100, temp_nz_to_2100[:, i])\n",
    "    sl_down_nz[i], ic_down_nz[i] = lr.slope, lr.intercept\n",
    "pl.title('All scenarios, each fair config')\n",
    "pl.xlabel('netzero cum. removal (net zero to 2100, 1000GtCO2)')\n",
    "pl.ylabel('warming, year of net zero to 2100')"
   ]
  },
  {
   "cell_type": "code",
   "execution_count": null,
   "id": "52",
   "metadata": {},
   "outputs": [],
   "source": [
    "sl_up_nz = np.zeros(841)\n",
    "ic_up_nz = np.zeros(841)\n",
    "for i in range(841):\n",
    "    pl.scatter(cumulative_positive_1750_to_nz, temp_1750_to_nz[:, i])\n",
    "    lr = linregress(cumulative_positive_1750_to_nz, temp_1750_to_nz[:, i])\n",
    "    sl_up_nz[i], ic_up_nz[i] = lr.slope, lr.intercept\n",
    "pl.title('All scenarios, each fair config')\n",
    "pl.xlabel('cum. emissions (1750 to net zero, 1000GtCO2)')\n",
    "pl.ylabel('warming, 1750 to year of net zero')"
   ]
  },
  {
   "cell_type": "code",
   "execution_count": null,
   "id": "53",
   "metadata": {},
   "outputs": [],
   "source": [
    "pl.hist(sl_up_nz, bins=np.arange(0.1, 0.82, 0.02), alpha=0.4, label='TCREup')\n",
    "pl.hist(sl_down_nz, bins=np.arange(0.2, 0.72, 0.02), alpha=0.4, label='TCRE_down')\n",
    "pl.title('Regression based estimates of TCREup and TCREdown')\n",
    "print(np.percentile(sl_up_nz, (5, 50, 95)))\n",
    "print(np.percentile(sl_down_nz, (5, 50, 95)))\n",
    "pl.legend()"
   ]
  },
  {
   "cell_type": "code",
   "execution_count": null,
   "id": "54",
   "metadata": {},
   "outputs": [],
   "source": [
    "pl.hist(ic_up_nz, bins=np.arange(-0.3, 1.02, 0.02), alpha=0.4, label='TCREup')\n",
    "pl.hist(ic_down_nz, bins=np.arange(-0.3, 1.02, 0.02), alpha=0.4, label='TCRE_down')\n",
    "pl.title('Regression-based ZEC estimates from netzero')\n",
    "print(np.percentile(ic_up_nz, (5, 50, 95)))\n",
    "print(np.percentile(ic_down_nz, (5, 50, 95)))\n",
    "pl.legend()"
   ]
  },
  {
   "cell_type": "code",
   "execution_count": null,
   "id": "55",
   "metadata": {},
   "outputs": [],
   "source": [
    "2/2.7"
   ]
  },
  {
   "cell_type": "code",
   "execution_count": null,
   "id": "56",
   "metadata": {},
   "outputs": [],
   "source": [
    "0.6/2.7"
   ]
  },
  {
   "cell_type": "code",
   "execution_count": null,
   "id": "57",
   "metadata": {},
   "outputs": [],
   "source": [
    "# suggestion is to calculate the positive TCRE either from 1pct runs or just by taking temperature at net zero \n",
    "# divide cumulative emissions at net zero\n",
    "# it becomes difficult because ZEC itself is defined as a point estimate in 1pctCO2 runs\n",
    "# I think the most approprite value to use for TCREup is the total warming at net zero divide cumulative emissions at net zero.\n",
    "# then rely on the fact that ZEC in fair is ~zero, and take ratio of TCREdown and TCREup."
   ]
  },
  {
   "cell_type": "code",
   "execution_count": null,
   "id": "58",
   "metadata": {},
   "outputs": [],
   "source": [
    "for iconf in range(841):\n",
    "    pl.plot(np.cumsum(emis[:, 0]), f.temperature.sel(timebounds=np.arange(1751, 2102), layer=0, scenario=0, config=configs[iconf]));"
   ]
  },
  {
   "cell_type": "code",
   "execution_count": null,
   "id": "59",
   "metadata": {},
   "outputs": [],
   "source": [
    "cumulative_positive_1750_to_nz"
   ]
  },
  {
   "cell_type": "code",
   "execution_count": null,
   "id": "60",
   "metadata": {},
   "outputs": [],
   "source": [
    "# one TCRE estimate for every scenario/config; but scenarios look similar\n",
    "tcre_up_at_net_zero = temp_1750_to_nz/cumulative_positive_1750_to_nz[:, None]"
   ]
  },
  {
   "cell_type": "code",
   "execution_count": null,
   "id": "61",
   "metadata": {},
   "outputs": [],
   "source": [
    "tcre_up_at_net_zero.shape"
   ]
  },
  {
   "cell_type": "code",
   "execution_count": null,
   "id": "62",
   "metadata": {},
   "outputs": [],
   "source": [
    "for i in range(94):\n",
    "    pl.hist(tcre_up_at_net_zero[:, i], alpha=0.3)"
   ]
  },
  {
   "cell_type": "code",
   "execution_count": null,
   "id": "63",
   "metadata": {},
   "outputs": [],
   "source": [
    "pl.hist(np.mean(tcre_up_at_net_zero, axis=0))"
   ]
  },
  {
   "cell_type": "code",
   "execution_count": null,
   "id": "64",
   "metadata": {},
   "outputs": [],
   "source": [
    "pl.hist(np.mean(tcre_up_at_net_zero * 3.664, axis=0), bins=np.arange(0.3, 3.05, 0.05), alpha=0.4, label='TCREup')\n",
    "pl.hist(sl_down_nz * 3.664, bins=np.arange(0.3, 3.05, 0.05), alpha=0.4, label='TCRE_down')\n",
    "pl.title('Regression based estimates of TCREup and TCREdown')\n",
    "print(np.percentile(np.mean(tcre_up_at_net_zero * 3.664, axis=0), (5, 50, 95)))\n",
    "print(np.percentile(sl_down_nz * 3.664, (5, 50, 95)))\n",
    "pl.legend()"
   ]
  },
  {
   "cell_type": "code",
   "execution_count": null,
   "id": "65",
   "metadata": {},
   "outputs": [],
   "source": [
    "# ratio\n",
    "pl.hist(sl_down_nz / np.mean(tcre_up_at_net_zero, axis=0))\n",
    "np.percentile(sl_down_nz / np.mean(tcre_up_at_net_zero, axis=0), (5, 50, 95))"
   ]
  },
  {
   "cell_type": "code",
   "execution_count": null,
   "id": "66",
   "metadata": {},
   "outputs": [],
   "source": []
  }
 ],
 "metadata": {
  "kernelspec": {
   "display_name": "Python 3 (ipykernel)",
   "language": "python",
   "name": "python3"
  },
  "language_info": {
   "codemirror_mode": {
    "name": "ipython",
    "version": 3
   },
   "file_extension": ".py",
   "mimetype": "text/x-python",
   "name": "python",
   "nbconvert_exporter": "python",
   "pygments_lexer": "ipython3",
   "version": "3.12.6"
  }
 },
 "nbformat": 4,
 "nbformat_minor": 5
}
