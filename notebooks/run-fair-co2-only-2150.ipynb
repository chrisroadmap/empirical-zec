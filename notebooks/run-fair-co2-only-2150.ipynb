{
 "cells": [
  {
   "cell_type": "code",
   "execution_count": null,
   "id": "0",
   "metadata": {},
   "outputs": [],
   "source": [
    "import copy\n",
    "\n",
    "from fair import FAIR\n",
    "from fair.interface import fill, initialise\n",
    "from fair.io import read_properties\n",
    "import pandas as pd\n",
    "import numpy as np\n",
    "import matplotlib.pyplot as pl\n",
    "from tqdm.auto import tqdm\n",
    "from scipy.stats import linregress"
   ]
  },
  {
   "cell_type": "code",
   "execution_count": null,
   "id": "1",
   "metadata": {},
   "outputs": [],
   "source": [
    "f = FAIR()"
   ]
  },
  {
   "cell_type": "code",
   "execution_count": null,
   "id": "2",
   "metadata": {},
   "outputs": [],
   "source": [
    "f.define_time(1750, 2151, 1)"
   ]
  },
  {
   "cell_type": "code",
   "execution_count": null,
   "id": "3",
   "metadata": {},
   "outputs": [],
   "source": [
    "scen_df = pd.read_csv('../data/c1_emissions_scenarios.csv')"
   ]
  },
  {
   "cell_type": "code",
   "execution_count": null,
   "id": "4",
   "metadata": {},
   "outputs": [],
   "source": [
    "scen_labels = pd.unique(list(zip(scen_df.Model, scen_df.Scenario)))"
   ]
  },
  {
   "cell_type": "code",
   "execution_count": null,
   "id": "5",
   "metadata": {},
   "outputs": [],
   "source": [
    "scenarios = [f'{scen[0]}___{scen[1]}' for scen in scen_labels]"
   ]
  },
  {
   "cell_type": "code",
   "execution_count": null,
   "id": "6",
   "metadata": {},
   "outputs": [],
   "source": [
    "# do one at a time\n",
    "#scenarios = [scenarios[0]]\n",
    "f.define_scenarios(scenarios)\n",
    "fair_params_df = pd.read_csv('../data/calibrated_constrained_parameters.csv', index_col=0)"
   ]
  },
  {
   "cell_type": "code",
   "execution_count": null,
   "id": "7",
   "metadata": {},
   "outputs": [],
   "source": [
    "f.define_configs(list(fair_params_df.index))"
   ]
  },
  {
   "cell_type": "code",
   "execution_count": null,
   "id": "8",
   "metadata": {},
   "outputs": [],
   "source": [
    "species = ['CO2', 'CH4', 'N2O']\n",
    "properties = {\n",
    "    \"CO2\": {\n",
    "        'type': 'co2',\n",
    "        'input_mode': 'emissions',\n",
    "        'greenhouse_gas': True,\n",
    "        'aerosol_chemistry_from_emissions': False,\n",
    "        'aerosol_chemistry_from_concentration': False\n",
    "    },\n",
    "    \"CH4\": {\n",
    "        'type': 'ch4',\n",
    "        'input_mode': 'concentration',\n",
    "        'greenhouse_gas': True,\n",
    "        'aerosol_chemistry_from_emissions': False,\n",
    "        'aerosol_chemistry_from_concentration': False\n",
    "    },\n",
    "    \"N2O\": {\n",
    "        'type': 'n2o',\n",
    "        'input_mode': 'concentration',\n",
    "        'greenhouse_gas': True,\n",
    "        'aerosol_chemistry_from_emissions': False,\n",
    "        'aerosol_chemistry_from_concentration': False\n",
    "    }\n",
    "}"
   ]
  },
  {
   "cell_type": "code",
   "execution_count": null,
   "id": "9",
   "metadata": {},
   "outputs": [],
   "source": [
    "# declare species and properties\n",
    "f.define_species(species, properties)"
   ]
  },
  {
   "cell_type": "code",
   "execution_count": null,
   "id": "10",
   "metadata": {},
   "outputs": [],
   "source": [
    "f.allocate()"
   ]
  },
  {
   "cell_type": "code",
   "execution_count": null,
   "id": "11",
   "metadata": {},
   "outputs": [],
   "source": [
    "hist_df = pd.read_csv('../data/historical_emissions.csv')"
   ]
  },
  {
   "cell_type": "code",
   "execution_count": null,
   "id": "12",
   "metadata": {},
   "outputs": [],
   "source": [
    "hist_df\n",
    "pd.unique(scen_df['Variable'])"
   ]
  },
  {
   "cell_type": "code",
   "execution_count": null,
   "id": "13",
   "metadata": {},
   "outputs": [],
   "source": [
    "fair_params_df['co2_concentration_1750']"
   ]
  },
  {
   "cell_type": "code",
   "execution_count": null,
   "id": "14",
   "metadata": {},
   "outputs": [],
   "source": [
    "for scenario in scenarios:\n",
    "    f.emissions.loc[\n",
    "        dict(scenario=scenario, specie='CO2', timepoints=np.arange(1750.5, 2015))\n",
    "    ] = hist_df.loc[hist_df['Variable'].str.startswith(\"Emissions|CO2|\"), '1750':'2014'].values.sum(axis=0, keepdims=True).T * 1/1000\n",
    "    f.emissions.loc[dict(scenario=scenario, specie='CH4')] = 0\n",
    "    f.emissions.loc[dict(scenario=scenario, specie='N2O')] = 0\n",
    "    f.concentration.loc[dict(scenario=scenario, specie='CH4')] = 729.2\n",
    "    f.concentration.loc[dict(scenario=scenario, specie='N2O')] = 270.1\n",
    "    \n",
    "    model, scen = scenario.split('___')\n",
    "    f.emissions.loc[\n",
    "        dict(scenario=scenario, specie='CO2', timepoints=np.arange(2015.5, 2101))\n",
    "    ] = scen_df.loc[\n",
    "        (scen_df['Variable'].str.startswith(\"AR6 climate diagnostics|Infilled|Emissions|CO2|\")) &\n",
    "        (scen_df['Scenario']==scen) &\n",
    "        (scen_df['Model']==model),\n",
    "        '2015':'2100'\n",
    "    ].values.sum(axis=0, keepdims=True).T * 1/1000\n",
    "    \n",
    "    f.emissions.loc[\n",
    "        dict(scenario=scenario, specie='CO2', timepoints=np.arange(2100.5, 2151))\n",
    "    ] = f.emissions.loc[\n",
    "        dict(scenario=scenario, specie='CO2', timepoints=np.arange(2100.5, 2101.5))\n",
    "    ].values * np.linspace(1, 0, 51)[:, None]"
   ]
  },
  {
   "cell_type": "code",
   "execution_count": null,
   "id": "15",
   "metadata": {},
   "outputs": [],
   "source": [
    "pl.plot(f.emissions.loc[\n",
    "        dict(scenario=scenario, specie='CO2', config=fair_params_df.index[0])\n",
    "])"
   ]
  },
  {
   "cell_type": "code",
   "execution_count": null,
   "id": "16",
   "metadata": {},
   "outputs": [],
   "source": [
    "# Get default species configs\n",
    "f.fill_species_configs()\n",
    "\n",
    "# Climate response\n",
    "fill(f.climate_configs['ocean_heat_capacity'], fair_params_df.loc[:,'c1':'c3'])\n",
    "fill(f.climate_configs['ocean_heat_transfer'], fair_params_df.loc[:,'kappa1':'kappa3'])\n",
    "fill(f.climate_configs['deep_ocean_efficacy'], fair_params_df.loc[:,'epsilon'])\n",
    "fill(f.climate_configs['gamma_autocorrelation'], fair_params_df.loc[:,'gamma'])\n",
    "fill(f.climate_configs['stochastic_run'], False)\n",
    "fill(f.climate_configs[\"forcing_4co2\"], fair_params_df.loc[:,\"F_4xCO2\"])\n",
    "\n",
    "# carbon cycle\n",
    "fill(f.species_configs['iirf_0'], fair_params_df.loc[:, 'r0'].values.squeeze(), specie='CO2')\n",
    "fill(f.species_configs['iirf_airborne'], fair_params_df.loc[:, 'rA'].values.squeeze(), specie='CO2')\n",
    "fill(f.species_configs['iirf_uptake'], fair_params_df.loc[:, 'rU'].values.squeeze(), specie='CO2')\n",
    "fill(f.species_configs['iirf_temperature'], fair_params_df.loc[:, 'rT'].values.squeeze(), specie='CO2')\n",
    "\n",
    "# Scale CO2 forcing based on its 4xCO2 calibration\n",
    "fill(f.species_configs[\"forcing_scale\"], fair_params_df[\"scale CO2\"].values.squeeze(), specie='CO2')\n",
    "\n",
    "# initial condition of CO2 concentration (but not baseline for forcing calculations)\n",
    "fill(\n",
    "    f.species_configs['baseline_concentration'], \n",
    "    fair_params_df.loc[:, 'co2_concentration_1750'].values.squeeze(),\n",
    "    specie='CO2'\n",
    ")\n",
    "\n",
    "fill(f.species_configs['forcing_reference_concentration'], 729.2, specie='CH4')\n",
    "fill(f.species_configs['forcing_reference_concentration'], 270.1, specie='N2O')"
   ]
  },
  {
   "cell_type": "code",
   "execution_count": null,
   "id": "17",
   "metadata": {},
   "outputs": [],
   "source": [
    "f.species_configs['forcing_reference_concentration']"
   ]
  },
  {
   "cell_type": "code",
   "execution_count": null,
   "id": "18",
   "metadata": {},
   "outputs": [],
   "source": [
    "# set initial conditions\n",
    "initialise(f.concentration, f.species_configs['baseline_concentration'])\n",
    "initialise(f.forcing, 0)\n",
    "initialise(f.temperature, 0)\n",
    "initialise(f.airborne_emissions, 0)\n",
    "initialise(f.cumulative_emissions, 0)"
   ]
  },
  {
   "cell_type": "code",
   "execution_count": null,
   "id": "19",
   "metadata": {},
   "outputs": [],
   "source": [
    "f.run()"
   ]
  },
  {
   "cell_type": "code",
   "execution_count": null,
   "id": "20",
   "metadata": {},
   "outputs": [],
   "source": [
    "pl.plot(f.temperature[:,96,:,0]);"
   ]
  },
  {
   "cell_type": "code",
   "execution_count": null,
   "id": "21",
   "metadata": {},
   "outputs": [],
   "source": [
    "pl.plot(f.emissions[:, 96, 0, 0])"
   ]
  },
  {
   "cell_type": "code",
   "execution_count": null,
   "id": "22",
   "metadata": {},
   "outputs": [],
   "source": [
    "pl.plot(f.concentration[:,96,:,0]);"
   ]
  },
  {
   "cell_type": "markdown",
   "id": "23",
   "metadata": {},
   "source": [
    "## Find year of net zero CO2"
   ]
  },
  {
   "cell_type": "code",
   "execution_count": null,
   "id": "24",
   "metadata": {},
   "outputs": [],
   "source": [
    "first_negative = np.array([f.emissions[:,:,0,0]<0]).argmax(axis=1).squeeze()\n",
    "first_negative"
   ]
  },
  {
   "cell_type": "code",
   "execution_count": null,
   "id": "25",
   "metadata": {},
   "outputs": [],
   "source": [
    "#f.emissions[-5:,9,0,0]\n",
    "# need to exclude scenarios 2, 7 and 9\n",
    "f.cumulative_emissions[first_negative, :, 0, 0]"
   ]
  },
  {
   "cell_type": "code",
   "execution_count": null,
   "id": "26",
   "metadata": {},
   "outputs": [],
   "source": [
    "netzero_to_2150_cumulative_emissions = np.zeros(97)\n",
    "for iscen in tqdm(range(97)):\n",
    "    netzero_to_2150_cumulative_emissions[iscen] = (f.cumulative_emissions[-1,iscen,0,0] - f.cumulative_emissions[first_negative[iscen], iscen, 0, 0])\n",
    "#f.cumulative_emissions[-2:,iscen,0,0].mean(axis=0) - f.cumulative_emissions[first_negative[iscen], iscen, 0, 0]"
   ]
  },
  {
   "cell_type": "code",
   "execution_count": null,
   "id": "27",
   "metadata": {},
   "outputs": [],
   "source": [
    "# exclude scenarios that don't reach net zero\n",
    "netzero_to_2150_cumulative_emissions[netzero_to_2150_cumulative_emissions > 0] = np.nan\n",
    "netzero_to_2150_cumulative_emissions"
   ]
  },
  {
   "cell_type": "code",
   "execution_count": null,
   "id": "28",
   "metadata": {},
   "outputs": [],
   "source": [
    "peak_times = np.zeros((97, 1001))\n",
    "#for iscen in range(97):\n",
    "#    for iconfig in range(1001):\n",
    "#        peak_times[iscen, iconfig] = np.array([f.temperature[:,iscen,iconfig,0]]).argmax()\n",
    "peak_times = f.temperature[:,:,:,0].argmax(axis=0)"
   ]
  },
  {
   "cell_type": "code",
   "execution_count": null,
   "id": "29",
   "metadata": {},
   "outputs": [],
   "source": [
    "#pl.hist(peak_times[2,:])"
   ]
  },
  {
   "cell_type": "code",
   "execution_count": null,
   "id": "30",
   "metadata": {},
   "outputs": [],
   "source": [
    "first_negative"
   ]
  },
  {
   "cell_type": "code",
   "execution_count": null,
   "id": "31",
   "metadata": {},
   "outputs": [],
   "source": [
    "temperature_drawdown = np.zeros((97,1001))\n",
    "for iscen in tqdm(range(97)):\n",
    "    for iconfig in range(1001):\n",
    "        temperature_drawdown[iscen, iconfig] = f.temperature[first_negative[iscen],iscen,iconfig,0]-f.temperature[-1,iscen,iconfig,0]"
   ]
  },
  {
   "cell_type": "code",
   "execution_count": null,
   "id": "32",
   "metadata": {},
   "outputs": [],
   "source": [
    "pl.hist(temperature_drawdown[2,:])"
   ]
  },
  {
   "cell_type": "code",
   "execution_count": null,
   "id": "33",
   "metadata": {},
   "outputs": [],
   "source": [
    "pc05 = np.percentile(temperature_drawdown, 5, axis=1)\n",
    "pc50 = np.percentile(temperature_drawdown, 50, axis=1)\n",
    "pc95 = np.percentile(temperature_drawdown, 95, axis=1)\n",
    "\n",
    "netzero = ~np.isnan(netzero_to_2150_cumulative_emissions)"
   ]
  },
  {
   "cell_type": "code",
   "execution_count": null,
   "id": "34",
   "metadata": {},
   "outputs": [],
   "source": [
    "netzero_to_2150_cumulative_emissions[netzero]"
   ]
  },
  {
   "cell_type": "code",
   "execution_count": null,
   "id": "35",
   "metadata": {},
   "outputs": [],
   "source": [
    "netzero & (pc05 > 0)"
   ]
  },
  {
   "cell_type": "code",
   "execution_count": null,
   "id": "36",
   "metadata": {},
   "outputs": [],
   "source": [
    "pl.scatter(-pc50[netzero & (pc50>0)], netzero_to_2150_cumulative_emissions[netzero & (pc50>0)])\n",
    "pl.scatter(-pc05[netzero & (pc05>0)], netzero_to_2150_cumulative_emissions[netzero & (pc05>0)])\n",
    "pl.scatter(-pc95[netzero & (pc95>0)], netzero_to_2150_cumulative_emissions[netzero & (pc95>0)])\n",
    "\n",
    "sl50, ic50, _, _, _ = linregress(-pc50[netzero & (pc50>0)], netzero_to_2150_cumulative_emissions[netzero & (pc50>0)])\n",
    "x = np.linspace(-0.35, 0)\n",
    "pl.plot(x, sl50*x + ic50)\n",
    "print(sl50, ic50)\n",
    "\n",
    "sl05, ic05, _, _, _ = linregress(-pc05[netzero & (pc05>0)], netzero_to_2150_cumulative_emissions[netzero & (pc05>0)])\n",
    "x = np.linspace(-0.2, 0)\n",
    "pl.plot(x, sl05*x + ic05)\n",
    "print(sl05, ic05)\n",
    "\n",
    "sl95, ic95, _, _, _ = linregress(-pc95[netzero & (pc95>0)], netzero_to_2150_cumulative_emissions[netzero & (pc95>0)])\n",
    "x = np.linspace(-0.5, 0)\n",
    "pl.plot(x, sl95*x + ic95)\n",
    "print(sl95, ic95)\n",
    "\n",
    "pl.xlabel('Temperature drawdown, peak to 2150')\n",
    "pl.ylabel('Cumulative CO2, net zero to 2150, GtCO2')"
   ]
  },
  {
   "cell_type": "code",
   "execution_count": null,
   "id": "37",
   "metadata": {},
   "outputs": [],
   "source": [
    "#c = sl50 * t + ic50\n",
    "3664/sl50  # TCRE "
   ]
  },
  {
   "cell_type": "code",
   "execution_count": null,
   "id": "38",
   "metadata": {},
   "outputs": [],
   "source": [
    "ic50/sl50  # -ZEC"
   ]
  },
  {
   "cell_type": "code",
   "execution_count": null,
   "id": "39",
   "metadata": {},
   "outputs": [],
   "source": [
    "3664/sl05, 3664/sl95"
   ]
  },
  {
   "cell_type": "code",
   "execution_count": null,
   "id": "40",
   "metadata": {},
   "outputs": [],
   "source": [
    "ic05/sl05, ic95/sl95  # take negative of"
   ]
  },
  {
   "cell_type": "code",
   "execution_count": null,
   "id": "41",
   "metadata": {},
   "outputs": [],
   "source": [
    "netzero_to_2150_cumulative_emissions[~np.isnan(netzero_to_2150_cumulative_emissions)]"
   ]
  },
  {
   "cell_type": "code",
   "execution_count": null,
   "id": "42",
   "metadata": {},
   "outputs": [],
   "source": [
    "pc05 = np.percentile(temperature_drawdown, 5, axis=1)\n",
    "pc05"
   ]
  },
  {
   "cell_type": "code",
   "execution_count": null,
   "id": "43",
   "metadata": {},
   "outputs": [],
   "source": [
    "netzero_to_2150_cumulative_emissions[~np.isnan(netzero_to_2150_cumulative_emissions)&(pc05>0)]"
   ]
  },
  {
   "cell_type": "code",
   "execution_count": null,
   "id": "44",
   "metadata": {},
   "outputs": [],
   "source": [
    "pl.scatter(-temperature_drawdown[netzero,11], netzero_to_2150_cumulative_emissions[netzero])"
   ]
  },
  {
   "cell_type": "code",
   "execution_count": null,
   "id": "45",
   "metadata": {},
   "outputs": [],
   "source": [
    "pl.scatter(-temperature_drawdown[netzero,12], netzero_to_2150_cumulative_emissions[netzero])"
   ]
  },
  {
   "cell_type": "code",
   "execution_count": null,
   "id": "46",
   "metadata": {},
   "outputs": [],
   "source": [
    "pl.plot(f.temperature[:,:,12,0]);"
   ]
  },
  {
   "cell_type": "code",
   "execution_count": null,
   "id": "47",
   "metadata": {},
   "outputs": [],
   "source": [
    "dataout = np.zeros((1001, 5))\n",
    "\n",
    "for iconfig, config in enumerate(fair_params_df.index):\n",
    "    sl, ic, _, _, _ = linregress(-temperature_drawdown[netzero,iconfig], netzero_to_2150_cumulative_emissions[netzero])\n",
    "    print(sl, ic, 3664/sl, -ic/sl)\n",
    "    dataout[iconfig, :] = [config, sl, ic, 3664/sl, -ic/sl]"
   ]
  },
  {
   "cell_type": "code",
   "execution_count": null,
   "id": "48",
   "metadata": {},
   "outputs": [],
   "source": [
    "df = pd.DataFrame(dataout, columns=['config', 'slope', 'intercept', 'tcre_postpeak', 'zec'])"
   ]
  },
  {
   "cell_type": "code",
   "execution_count": null,
   "id": "49",
   "metadata": {},
   "outputs": [],
   "source": [
    "df = df.astype({'config': 'int32'})"
   ]
  },
  {
   "cell_type": "code",
   "execution_count": null,
   "id": "50",
   "metadata": {},
   "outputs": [],
   "source": [
    "df.set_index('config', inplace=True)"
   ]
  },
  {
   "cell_type": "code",
   "execution_count": null,
   "id": "51",
   "metadata": {},
   "outputs": [],
   "source": [
    "df"
   ]
  },
  {
   "cell_type": "code",
   "execution_count": null,
   "id": "52",
   "metadata": {},
   "outputs": [],
   "source": [
    "df.to_csv('../data/fair_1001_c1_scenarios_tcre_zec_2150.csv')"
   ]
  },
  {
   "cell_type": "code",
   "execution_count": null,
   "id": "53",
   "metadata": {},
   "outputs": [],
   "source": []
  }
 ],
 "metadata": {
  "kernelspec": {
   "display_name": "Python 3 (ipykernel)",
   "language": "python",
   "name": "python3"
  },
  "language_info": {
   "codemirror_mode": {
    "name": "ipython",
    "version": 3
   },
   "file_extension": ".py",
   "mimetype": "text/x-python",
   "name": "python",
   "nbconvert_exporter": "python",
   "pygments_lexer": "ipython3",
   "version": "3.11.3"
  }
 },
 "nbformat": 4,
 "nbformat_minor": 5
}
