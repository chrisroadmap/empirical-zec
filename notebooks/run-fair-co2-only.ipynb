{
 "cells": [
  {
   "cell_type": "code",
   "execution_count": null,
   "id": "a20373cb",
   "metadata": {},
   "outputs": [],
   "source": [
    "from fair import FAIR"
   ]
  },
  {
   "cell_type": "code",
   "execution_count": null,
   "id": "eb2fec0b",
   "metadata": {},
   "outputs": [],
   "source": [
    "from fair.interface import fill, initialise\n",
    "from fair.io import read_properties"
   ]
  },
  {
   "cell_type": "code",
   "execution_count": null,
   "id": "01f44a27",
   "metadata": {},
   "outputs": [],
   "source": [
    "import pandas as pd"
   ]
  },
  {
   "cell_type": "code",
   "execution_count": null,
   "id": "b4a6e28a",
   "metadata": {},
   "outputs": [],
   "source": [
    "import numpy as np"
   ]
  },
  {
   "cell_type": "code",
   "execution_count": null,
   "id": "b29f7b7d",
   "metadata": {},
   "outputs": [],
   "source": [
    "import copy"
   ]
  },
  {
   "cell_type": "code",
   "execution_count": null,
   "id": "56b9fee4",
   "metadata": {},
   "outputs": [],
   "source": [
    "import matplotlib.pyplot as pl"
   ]
  },
  {
   "cell_type": "code",
   "execution_count": null,
   "id": "c8cf4c56",
   "metadata": {},
   "outputs": [],
   "source": [
    "from tqdm.auto import tqdm"
   ]
  },
  {
   "cell_type": "code",
   "execution_count": null,
   "id": "d96f41d1",
   "metadata": {},
   "outputs": [],
   "source": [
    "from scipy.stats import linregress"
   ]
  },
  {
   "cell_type": "code",
   "execution_count": null,
   "id": "f95aab09",
   "metadata": {},
   "outputs": [],
   "source": [
    "f = FAIR()"
   ]
  },
  {
   "cell_type": "code",
   "execution_count": null,
   "id": "b5bd848d",
   "metadata": {},
   "outputs": [],
   "source": [
    "f.define_time(1750, 2101, 1)"
   ]
  },
  {
   "cell_type": "code",
   "execution_count": null,
   "id": "a6bfaf68",
   "metadata": {},
   "outputs": [],
   "source": [
    "scen_df = pd.read_csv('../data/c1_emissions_scenarios.csv')"
   ]
  },
  {
   "cell_type": "code",
   "execution_count": null,
   "id": "c03dbbe5",
   "metadata": {},
   "outputs": [],
   "source": [
    "scen_labels = pd.unique(list(zip(scen_df.Model, scen_df.Scenario)))"
   ]
  },
  {
   "cell_type": "code",
   "execution_count": null,
   "id": "12e08436",
   "metadata": {},
   "outputs": [],
   "source": [
    "scenarios = [f'{scen[0]}___{scen[1]}' for scen in scen_labels]"
   ]
  },
  {
   "cell_type": "code",
   "execution_count": null,
   "id": "0a46bbd8",
   "metadata": {},
   "outputs": [],
   "source": [
    "# do one at a time\n",
    "#scenarios = [scenarios[0]]\n",
    "f.define_scenarios(scenarios)\n",
    "fair_params_df = pd.read_csv('../data/ar6_calibration_ebm3.csv', index_col=0)"
   ]
  },
  {
   "cell_type": "code",
   "execution_count": null,
   "id": "0153c1d1",
   "metadata": {},
   "outputs": [],
   "source": [
    "f.define_configs(list(fair_params_df.index))"
   ]
  },
  {
   "cell_type": "code",
   "execution_count": null,
   "id": "0ee4f33b",
   "metadata": {},
   "outputs": [],
   "source": [
    "species = ['CO2', 'CH4', 'N2O']\n",
    "properties = {\n",
    "    \"CO2\": {\n",
    "        'type': 'co2',\n",
    "        'input_mode': 'emissions',\n",
    "        'greenhouse_gas': True,\n",
    "        'aerosol_chemistry_from_emissions': False,\n",
    "        'aerosol_chemistry_from_concentration': False\n",
    "    },\n",
    "    \"CH4\": {\n",
    "        'type': 'ch4',\n",
    "        'input_mode': 'concentration',\n",
    "        'greenhouse_gas': True,\n",
    "        'aerosol_chemistry_from_emissions': False,\n",
    "        'aerosol_chemistry_from_concentration': False\n",
    "    },\n",
    "    \"N2O\": {\n",
    "        'type': 'n2o',\n",
    "        'input_mode': 'concentration',\n",
    "        'greenhouse_gas': True,\n",
    "        'aerosol_chemistry_from_emissions': False,\n",
    "        'aerosol_chemistry_from_concentration': False\n",
    "    }\n",
    "}"
   ]
  },
  {
   "cell_type": "code",
   "execution_count": null,
   "id": "60bb73b2",
   "metadata": {},
   "outputs": [],
   "source": [
    "# declare species and properties\n",
    "f.define_species(species, properties)"
   ]
  },
  {
   "cell_type": "code",
   "execution_count": null,
   "id": "c34a7bee",
   "metadata": {},
   "outputs": [],
   "source": [
    "f.allocate()"
   ]
  },
  {
   "cell_type": "code",
   "execution_count": null,
   "id": "06dcfb20",
   "metadata": {},
   "outputs": [],
   "source": [
    "hist_df = pd.read_csv('../data/historical_emissions.csv')"
   ]
  },
  {
   "cell_type": "code",
   "execution_count": null,
   "id": "09d4bd45",
   "metadata": {},
   "outputs": [],
   "source": [
    "hist_df\n",
    "pd.unique(scen_df['Variable'])"
   ]
  },
  {
   "cell_type": "code",
   "execution_count": null,
   "id": "f5828ecd",
   "metadata": {},
   "outputs": [],
   "source": [
    "for scenario in scenarios:\n",
    "    f.emissions.loc[\n",
    "        dict(scenario=scenario, specie='CO2', timepoints=np.arange(1750.5, 2015))\n",
    "    ] = hist_df.loc[hist_df['Variable'].str.startswith(\"Emissions|CO2|\"), '1750':'2014'].values.sum(axis=0, keepdims=True).T * 1/1000\n",
    "    f.emissions.loc[dict(scenario=scenario, specie='CH4')] = 0\n",
    "    f.emissions.loc[dict(scenario=scenario, specie='N2O')] = 0\n",
    "    f.concentration.loc[dict(scenario=scenario, specie='CH4')] = 729.2\n",
    "    f.concentration.loc[dict(scenario=scenario, specie='N2O')] = 270.1\n",
    "    \n",
    "    model, scen = scenario.split('___')\n",
    "    f.emissions.loc[\n",
    "        dict(scenario=scenario, specie='CO2', timepoints=np.arange(2015.5, 2101))\n",
    "    ] = scen_df.loc[\n",
    "        (scen_df['Variable'].str.startswith(\"AR6 climate diagnostics|Infilled|Emissions|CO2|\")) &\n",
    "        (scen_df['Scenario']==scen) &\n",
    "        (scen_df['Model']==model),\n",
    "        '2015':'2100'\n",
    "    ].values.sum(axis=0, keepdims=True).T * 1/1000"
   ]
  },
  {
   "cell_type": "code",
   "execution_count": null,
   "id": "72334e99",
   "metadata": {},
   "outputs": [],
   "source": [
    "f.emissions"
   ]
  },
  {
   "cell_type": "code",
   "execution_count": null,
   "id": "2b6d1c89",
   "metadata": {},
   "outputs": [],
   "source": [
    "# Get default species configs\n",
    "f.fill_species_configs()\n",
    "\n",
    "# Climate response\n",
    "fill(f.climate_configs['ocean_heat_capacity'], fair_params_df.loc[:,'c1':'c3'])\n",
    "fill(f.climate_configs['ocean_heat_transfer'], fair_params_df.loc[:,'kappa1':'kappa3'])\n",
    "fill(f.climate_configs['deep_ocean_efficacy'], fair_params_df.loc[:,'epsilon'])\n",
    "fill(f.climate_configs['gamma_autocorrelation'], fair_params_df.loc[:,'gamma'])\n",
    "fill(f.climate_configs['stochastic_run'], False)\n",
    "\n",
    "# carbon cycle\n",
    "fill(f.species_configs['iirf_0'], fair_params_df.loc[:, 'r0'].values.squeeze(), specie='CO2')\n",
    "fill(f.species_configs['iirf_airborne'], fair_params_df.loc[:, 'rA'].values.squeeze(), specie='CO2')\n",
    "fill(f.species_configs['iirf_uptake'], fair_params_df.loc[:, 'rU'].values.squeeze(), specie='CO2')\n",
    "fill(f.species_configs['iirf_temperature'], fair_params_df.loc[:, 'rT'].values.squeeze(), specie='CO2')\n",
    "\n",
    "# Scale CO2 forcing based on its 4xCO2 calibration\n",
    "calibrated_f4co2_mean = fair_params_df.loc[:,'F_4xCO2'].values.mean()\n",
    "fill(\n",
    "    f.species_configs['forcing_scale'], \n",
    "    1 + 0.561*(calibrated_f4co2_mean - fair_params_df.loc[:,'F_4xCO2'].values)/calibrated_f4co2_mean,\n",
    "    specie='CO2'\n",
    ")\n",
    "\n",
    "# initial condition of CO2 concentration (but not baseline for forcing calculations)\n",
    "fill(\n",
    "    f.species_configs['baseline_concentration'], \n",
    "    fair_params_df.loc[:, 'co2_concentration_1750'].values.squeeze(),\n",
    "    specie='CO2'\n",
    ")"
   ]
  },
  {
   "cell_type": "code",
   "execution_count": null,
   "id": "b066b68c",
   "metadata": {},
   "outputs": [],
   "source": [
    "# set initial conditions\n",
    "initialise(f.concentration, f.species_configs['baseline_concentration'])\n",
    "initialise(f.forcing, 0)\n",
    "initialise(f.temperature, 0)\n",
    "initialise(f.airborne_emissions, 0)\n",
    "initialise(f.cumulative_emissions, 0)"
   ]
  },
  {
   "cell_type": "code",
   "execution_count": null,
   "id": "0c6532c2",
   "metadata": {},
   "outputs": [],
   "source": [
    "f.run()"
   ]
  },
  {
   "cell_type": "code",
   "execution_count": null,
   "id": "4532b42e",
   "metadata": {},
   "outputs": [],
   "source": [
    "f.forcing"
   ]
  },
  {
   "cell_type": "code",
   "execution_count": null,
   "id": "6adbd5f2",
   "metadata": {},
   "outputs": [],
   "source": [
    "pl.plot(f.temperature[:,96,:,0]);"
   ]
  },
  {
   "cell_type": "code",
   "execution_count": null,
   "id": "d0d09272",
   "metadata": {},
   "outputs": [],
   "source": [
    "pl.plot(f.emissions[:, 96, 0, 0])"
   ]
  },
  {
   "cell_type": "code",
   "execution_count": null,
   "id": "328227d1",
   "metadata": {},
   "outputs": [],
   "source": [
    "pl.plot(f.concentration[:,96,:,0]);"
   ]
  },
  {
   "cell_type": "markdown",
   "id": "881edaad",
   "metadata": {},
   "source": [
    "## Find year of net zero CO2"
   ]
  },
  {
   "cell_type": "code",
   "execution_count": null,
   "id": "f21cb985",
   "metadata": {},
   "outputs": [],
   "source": [
    "first_negative = np.array([f.emissions[:,:,0,0]<0]).argmax(axis=1).squeeze()\n",
    "first_negative"
   ]
  },
  {
   "cell_type": "code",
   "execution_count": null,
   "id": "c1ede4bd",
   "metadata": {},
   "outputs": [],
   "source": [
    "#f.emissions[-5:,9,0,0]\n",
    "# need to exclude scenarios 2, 7 and 9\n",
    "f.cumulative_emissions[first_negative, :, 0, 0]"
   ]
  },
  {
   "cell_type": "code",
   "execution_count": null,
   "id": "794b2f66",
   "metadata": {},
   "outputs": [],
   "source": [
    "netzero_to_2100_cumulative_emissions = np.zeros(97)\n",
    "for iscen in tqdm(range(97)):\n",
    "    netzero_to_2100_cumulative_emissions[iscen] = (f.cumulative_emissions[-1,iscen,0,0] - f.cumulative_emissions[first_negative[iscen], iscen, 0, 0])\n",
    "#f.cumulative_emissions[-2:,iscen,0,0].mean(axis=0) - f.cumulative_emissions[first_negative[iscen], iscen, 0, 0]"
   ]
  },
  {
   "cell_type": "code",
   "execution_count": null,
   "id": "ad25d656",
   "metadata": {},
   "outputs": [],
   "source": [
    "# exclude scenarios that don't reach net zero\n",
    "netzero_to_2100_cumulative_emissions[netzero_to_2100_cumulative_emissions > 0] = np.nan\n",
    "netzero_to_2100_cumulative_emissions"
   ]
  },
  {
   "cell_type": "code",
   "execution_count": null,
   "id": "f5a4c54c",
   "metadata": {},
   "outputs": [],
   "source": [
    "peak_times = np.zeros((97, 1001))\n",
    "#for iscen in range(97):\n",
    "#    for iconfig in range(1001):\n",
    "#        peak_times[iscen, iconfig] = np.array([f.temperature[:,iscen,iconfig,0]]).argmax()\n",
    "peak_times = f.temperature[:,:,:,0].argmax(axis=0)"
   ]
  },
  {
   "cell_type": "code",
   "execution_count": null,
   "id": "3b145017",
   "metadata": {},
   "outputs": [],
   "source": [
    "#pl.hist(peak_times[2,:])"
   ]
  },
  {
   "cell_type": "code",
   "execution_count": null,
   "id": "5eb6b8cf",
   "metadata": {},
   "outputs": [],
   "source": [
    "temperature_drawdown = np.zeros((97,1001))\n",
    "for iscen in tqdm(range(97)):\n",
    "    for iconfig in range(1001):\n",
    "        temperature_drawdown[iscen, iconfig] = f.temperature[int(peak_times[iscen, iconfig]),iscen,iconfig,0]-f.temperature[-1,iscen,iconfig,0]"
   ]
  },
  {
   "cell_type": "code",
   "execution_count": null,
   "id": "ff19e7e0",
   "metadata": {},
   "outputs": [],
   "source": [
    "pl.hist(temperature_drawdown[2,:])"
   ]
  },
  {
   "cell_type": "code",
   "execution_count": null,
   "id": "0376cf74",
   "metadata": {},
   "outputs": [],
   "source": [
    "pc05 = np.percentile(temperature_drawdown, 5, axis=1)\n",
    "pc50 = np.percentile(temperature_drawdown, 50, axis=1)\n",
    "pc95 = np.percentile(temperature_drawdown, 95, axis=1)\n",
    "\n",
    "netzero = ~np.isnan(netzero_to_2100_cumulative_emissions)"
   ]
  },
  {
   "cell_type": "code",
   "execution_count": null,
   "id": "f2e5242d",
   "metadata": {},
   "outputs": [],
   "source": [
    "netzero_to_2100_cumulative_emissions[netzero]"
   ]
  },
  {
   "cell_type": "code",
   "execution_count": null,
   "id": "b7a3b45a",
   "metadata": {},
   "outputs": [],
   "source": [
    "netzero & (pc05 > 0)"
   ]
  },
  {
   "cell_type": "code",
   "execution_count": null,
   "id": "22a542dc",
   "metadata": {},
   "outputs": [],
   "source": [
    "pl.scatter(-pc50[netzero & (pc50>0)], netzero_to_2100_cumulative_emissions[netzero & (pc50>0)])\n",
    "pl.scatter(-pc05[netzero & (pc05>0)], netzero_to_2100_cumulative_emissions[netzero & (pc05>0)])\n",
    "pl.scatter(-pc95[netzero & (pc95>0)], netzero_to_2100_cumulative_emissions[netzero & (pc95>0)])\n",
    "\n",
    "sl, ic, _, _, _ = linregress(-pc50[netzero & (pc50>0)], netzero_to_2100_cumulative_emissions[netzero & (pc50>0)])\n",
    "x = np.linspace(-0.35, 0)\n",
    "pl.plot(x, sl*x + ic)\n",
    "print(sl, ic)\n",
    "\n",
    "sl, ic, _, _, _ = linregress(-pc05[netzero & (pc05>0)], netzero_to_2100_cumulative_emissions[netzero & (pc05>0)])\n",
    "x = np.linspace(-0.2, 0)\n",
    "pl.plot(x, sl*x + ic)\n",
    "print(sl, ic)\n",
    "\n",
    "sl, ic, _, _, _ = linregress(-pc95[netzero & (pc95>0)], netzero_to_2100_cumulative_emissions[netzero & (pc95>0)])\n",
    "x = np.linspace(-0.5, 0)\n",
    "pl.plot(x, sl*x + ic)\n",
    "print(sl, ic)"
   ]
  },
  {
   "cell_type": "code",
   "execution_count": null,
   "id": "aef4d7af",
   "metadata": {},
   "outputs": [],
   "source": [
    "netzero_to_2100_cumulative_emissions[~np.isnan(netzero_to_2100_cumulative_emissions)]"
   ]
  },
  {
   "cell_type": "code",
   "execution_count": null,
   "id": "cd392e25",
   "metadata": {},
   "outputs": [],
   "source": [
    "sl, ic, _, _, _ = linregress(-np.percentile(temperature_drawdown[~np.isnan(netzero_to_2100_cumulative_emissions), :], 95, axis=1), netzero_to_2100_cumulative_emissions[~np.isnan(netzero_to_2100_cumulative_emissions)])\n",
    "x = np.linspace(-0.35, 0)\n",
    "pl.plot(x, sl*x + ic)\n",
    "print(sl, ic)"
   ]
  },
  {
   "cell_type": "code",
   "execution_count": null,
   "id": "dbdc530e",
   "metadata": {},
   "outputs": [],
   "source": [
    "pc05 = np.percentile(temperature_drawdown, 5, axis=1)\n",
    "pc05"
   ]
  },
  {
   "cell_type": "code",
   "execution_count": null,
   "id": "5cbf31da",
   "metadata": {},
   "outputs": [],
   "source": [
    "netzero_to_2100_cumulative_emissions[~np.isnan(netzero_to_2100_cumulative_emissions)&(pc05>0)]"
   ]
  },
  {
   "cell_type": "code",
   "execution_count": null,
   "id": "88b7575b",
   "metadata": {},
   "outputs": [],
   "source": [
    "sl, ic, _, _, _ = linregress(\n",
    "    -pc05[~np.isnan(netzero_to_2100_cumulative_emissions)&(pc05>0)], \n",
    "    netzero_to_2100_cumulative_emissions[~np.isnan(netzero_to_2100_cumulative_emissions)&(pc05>0)]\n",
    ")\n",
    "print(sl, ic)"
   ]
  },
  {
   "cell_type": "code",
   "execution_count": null,
   "id": "a11574ce",
   "metadata": {},
   "outputs": [],
   "source": []
  }
 ],
 "metadata": {
  "kernelspec": {
   "display_name": "Python 3 (ipykernel)",
   "language": "python",
   "name": "python3"
  },
  "language_info": {
   "codemirror_mode": {
    "name": "ipython",
    "version": 3
   },
   "file_extension": ".py",
   "mimetype": "text/x-python",
   "name": "python",
   "nbconvert_exporter": "python",
   "pygments_lexer": "ipython3",
   "version": "3.10.6"
  }
 },
 "nbformat": 4,
 "nbformat_minor": 5
}
