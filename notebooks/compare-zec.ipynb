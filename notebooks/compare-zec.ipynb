{
 "cells": [
  {
   "cell_type": "code",
   "execution_count": null,
   "id": "0",
   "metadata": {},
   "outputs": [],
   "source": [
    "import matplotlib.pyplot as pl\n",
    "import pandas as pd\n",
    "import numpy as np"
   ]
  },
  {
   "cell_type": "code",
   "execution_count": null,
   "id": "1",
   "metadata": {},
   "outputs": [],
   "source": [
    "emp_df = pd.read_csv('../data/fair_1001_c1_scenarios_tcre_zec.csv', index_col=0)"
   ]
  },
  {
   "cell_type": "code",
   "execution_count": null,
   "id": "2",
   "metadata": {},
   "outputs": [],
   "source": [
    "eff_df = pd.read_csv('../data/fair_1001_c1_scenarios_effective_tcre_zec.csv', index_col=0)"
   ]
  },
  {
   "cell_type": "code",
   "execution_count": null,
   "id": "3",
   "metadata": {},
   "outputs": [],
   "source": [
    "zec = pd.read_csv('../data/zec_esm-bell_ecs_tcr_co2.csv', index_col=0)"
   ]
  },
  {
   "cell_type": "code",
   "execution_count": null,
   "id": "4",
   "metadata": {},
   "outputs": [],
   "source": [
    "tcre = pd.read_csv('../data/1pct_tcre.csv', index_col=0)"
   ]
  },
  {
   "cell_type": "code",
   "execution_count": null,
   "id": "5",
   "metadata": {},
   "outputs": [],
   "source": [
    "emp_df"
   ]
  },
  {
   "cell_type": "code",
   "execution_count": null,
   "id": "6",
   "metadata": {},
   "outputs": [],
   "source": [
    "emp_df.zec"
   ]
  },
  {
   "cell_type": "code",
   "execution_count": null,
   "id": "7",
   "metadata": {},
   "outputs": [],
   "source": [
    "zec.zec50_750"
   ]
  },
  {
   "cell_type": "code",
   "execution_count": null,
   "id": "8",
   "metadata": {},
   "outputs": [],
   "source": [
    "tcre.tcre"
   ]
  },
  {
   "cell_type": "code",
   "execution_count": null,
   "id": "9",
   "metadata": {},
   "outputs": [],
   "source": [
    "pl.scatter(emp_df.zec, zec.zec50_750)\n",
    "#pl.scatter(emp_df.zec, zec.zec50_1000)\n",
    "#pl.scatter(emp_df.zec, zec.zec100_750)\n",
    "#pl.scatter(emp_df.zec, zec.zec48_750)\n",
    "pl.xlabel('C1 scenario ZEC')\n",
    "pl.ylabel('Calculated ZEC$_{50}$')\n",
    "pl.plot(np.linspace(-0.25, 0.4), np.linspace(-0.25, 0.4), color='k')"
   ]
  },
  {
   "cell_type": "code",
   "execution_count": null,
   "id": "10",
   "metadata": {},
   "outputs": [],
   "source": [
    "pl.scatter(emp_df.tcre_postpeak, tcre.tcre)\n",
    "pl.xlabel('Empirical post-peak TCRE')\n",
    "pl.ylabel('Calculated 1pctCO2 TCRE')\n",
    "pl.plot(np.linspace(0.8, 3.2), np.linspace(0.8, 3.2), color='k')"
   ]
  },
  {
   "cell_type": "code",
   "execution_count": null,
   "id": "11",
   "metadata": {},
   "outputs": [],
   "source": [
    "pl.scatter(emp_df.tcre_postpeak, emp_df.zec)"
   ]
  },
  {
   "cell_type": "code",
   "execution_count": null,
   "id": "12",
   "metadata": {},
   "outputs": [],
   "source": [
    "zec"
   ]
  },
  {
   "cell_type": "code",
   "execution_count": null,
   "id": "13",
   "metadata": {},
   "outputs": [],
   "source": [
    "pl.scatter(tcre.tcre, zec.zec50)"
   ]
  },
  {
   "cell_type": "code",
   "execution_count": null,
   "id": "14",
   "metadata": {},
   "outputs": [],
   "source": [
    "pl.scatter(eff_df.zec, zec50.zec50)\n",
    "pl.xlabel('Empirical ZEC (all forcers)')\n",
    "pl.ylabel('Calculated ZEC$_{50}$')\n",
    "pl.plot(np.linspace(-0.25, 0.4), np.linspace(-0.25, 0.4), color='k')"
   ]
  },
  {
   "cell_type": "code",
   "execution_count": null,
   "id": "15",
   "metadata": {},
   "outputs": [],
   "source": [
    "pl.scatter(eff_df.tcre_postpeak, tcre.tcre)\n",
    "pl.xlabel('Empirical post-peak TCRE')\n",
    "pl.ylabel('Calculated 1pctCO2 TCRE')\n",
    "pl.plot(np.linspace(0.8, 3.2), np.linspace(0.8, 3.2), color='k')"
   ]
  },
  {
   "cell_type": "code",
   "execution_count": null,
   "id": "16",
   "metadata": {},
   "outputs": [],
   "source": []
  }
 ],
 "metadata": {
  "kernelspec": {
   "display_name": "Python 3 (ipykernel)",
   "language": "python",
   "name": "python3"
  },
  "language_info": {
   "codemirror_mode": {
    "name": "ipython",
    "version": 3
   },
   "file_extension": ".py",
   "mimetype": "text/x-python",
   "name": "python",
   "nbconvert_exporter": "python",
   "pygments_lexer": "ipython3",
   "version": "3.13.1"
  }
 },
 "nbformat": 4,
 "nbformat_minor": 5
}
