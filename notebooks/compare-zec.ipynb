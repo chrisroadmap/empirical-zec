{
 "cells": [
  {
   "cell_type": "code",
   "execution_count": null,
   "id": "8b2a0434",
   "metadata": {},
   "outputs": [],
   "source": [
    "import matplotlib.pyplot as pl\n",
    "import pandas as pd\n",
    "import numpy as np"
   ]
  },
  {
   "cell_type": "code",
   "execution_count": null,
   "id": "18a07cf9",
   "metadata": {},
   "outputs": [],
   "source": [
    "emp_df = pd.read_csv('../data/fair_1001_c1_scenarios_tcre_zec.csv', index_col=0)"
   ]
  },
  {
   "cell_type": "code",
   "execution_count": null,
   "id": "429f1765",
   "metadata": {},
   "outputs": [],
   "source": [
    "zec50 = pd.read_csv('../data/zec50_esm-bell-750PgC.csv', index_col=0)"
   ]
  },
  {
   "cell_type": "code",
   "execution_count": null,
   "id": "001760f1",
   "metadata": {},
   "outputs": [],
   "source": [
    "emp_df.zec"
   ]
  },
  {
   "cell_type": "code",
   "execution_count": null,
   "id": "143de52d",
   "metadata": {},
   "outputs": [],
   "source": [
    "zec50.zec50"
   ]
  },
  {
   "cell_type": "code",
   "execution_count": null,
   "id": "12fba2ab",
   "metadata": {},
   "outputs": [],
   "source": [
    "pl.scatter(emp_df.zec, zec50.zec50)\n",
    "pl.xlabel('Empirical ZEC')\n",
    "pl.ylabel('Calculated ZEC$_{50}$')\n",
    "pl.plot(np.linspace(-0.25, 0.4), np.linspace(-0.25, 0.4), color='k')"
   ]
  },
  {
   "cell_type": "code",
   "execution_count": null,
   "id": "a8f47a43",
   "metadata": {},
   "outputs": [],
   "source": []
  }
 ],
 "metadata": {
  "kernelspec": {
   "display_name": "Python 3 (ipykernel)",
   "language": "python",
   "name": "python3"
  },
  "language_info": {
   "codemirror_mode": {
    "name": "ipython",
    "version": 3
   },
   "file_extension": ".py",
   "mimetype": "text/x-python",
   "name": "python",
   "nbconvert_exporter": "python",
   "pygments_lexer": "ipython3",
   "version": "3.11.3"
  }
 },
 "nbformat": 4,
 "nbformat_minor": 5
}
