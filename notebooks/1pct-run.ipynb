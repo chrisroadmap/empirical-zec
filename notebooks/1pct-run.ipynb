{
 "cells": [
  {
   "cell_type": "markdown",
   "id": "0",
   "metadata": {},
   "source": [
    "# 1pct runs\n",
    "\n",
    "Do a 1pct C-driven run to calculate TCRE."
   ]
  },
  {
   "cell_type": "code",
   "execution_count": null,
   "id": "1",
   "metadata": {},
   "outputs": [],
   "source": [
    "import copy\n",
    "\n",
    "import fair\n",
    "from fair import FAIR\n",
    "from fair.interface import fill, initialise\n",
    "from fair.io import read_properties\n",
    "import pandas as pd\n",
    "import numpy as np\n",
    "import matplotlib.pyplot as pl\n",
    "from tqdm.auto import tqdm\n",
    "from scipy.stats import linregress\n",
    "import xarray as xr"
   ]
  },
  {
   "cell_type": "code",
   "execution_count": null,
   "id": "2",
   "metadata": {},
   "outputs": [],
   "source": [
    "fair.__version__"
   ]
  },
  {
   "cell_type": "code",
   "execution_count": null,
   "id": "3",
   "metadata": {},
   "outputs": [],
   "source": [
    "f = FAIR()\n",
    "scenarios = ['1pctCO2']\n",
    "f.define_scenarios(scenarios)\n",
    "f.define_time(1850, 1990, 1)"
   ]
  },
  {
   "cell_type": "code",
   "execution_count": null,
   "id": "4",
   "metadata": {},
   "outputs": [],
   "source": [
    "species, properties = read_properties()"
   ]
  },
  {
   "cell_type": "code",
   "execution_count": null,
   "id": "5",
   "metadata": {},
   "outputs": [],
   "source": [
    "fair_params_df = pd.read_csv('../data/calibrated_constrained_parameters_1.4.1.csv', index_col=0)"
   ]
  },
  {
   "cell_type": "code",
   "execution_count": null,
   "id": "6",
   "metadata": {},
   "outputs": [],
   "source": [
    "conc_df = pd.read_csv('../data/1pctCO2_concentrations.csv', index_col=0)"
   ]
  },
  {
   "cell_type": "code",
   "execution_count": null,
   "id": "7",
   "metadata": {},
   "outputs": [],
   "source": [
    "species = [\"CO2\", \"CH4\", \"N2O\"]\n",
    "properties = {\n",
    "    \"CO2\": {\n",
    "        \"type\": \"co2\",\n",
    "        \"input_mode\": \"concentration\",\n",
    "        \"greenhouse_gas\": True,\n",
    "        \"aerosol_chemistry_from_emissions\": False,\n",
    "        \"aerosol_chemistry_from_concentration\": False,\n",
    "    },\n",
    "    \"CH4\": {\n",
    "        \"type\": \"ch4\",\n",
    "        \"input_mode\": \"concentration\",\n",
    "        \"greenhouse_gas\": True,\n",
    "        \"aerosol_chemistry_from_emissions\": False,\n",
    "        \"aerosol_chemistry_from_concentration\": False,\n",
    "    },\n",
    "    \"N2O\": {\n",
    "        \"type\": \"n2o\",\n",
    "        \"input_mode\": \"concentration\",\n",
    "        \"greenhouse_gas\": True,\n",
    "        \"aerosol_chemistry_from_emissions\": False,\n",
    "        \"aerosol_chemistry_from_concentration\": False,\n",
    "    },\n",
    "}"
   ]
  },
  {
   "cell_type": "code",
   "execution_count": null,
   "id": "8",
   "metadata": {},
   "outputs": [],
   "source": [
    "f.define_configs(fair_params_df.index)"
   ]
  },
  {
   "cell_type": "code",
   "execution_count": null,
   "id": "9",
   "metadata": {},
   "outputs": [],
   "source": [
    "f.define_species(species, properties)"
   ]
  },
  {
   "cell_type": "code",
   "execution_count": null,
   "id": "10",
   "metadata": {},
   "outputs": [],
   "source": [
    "f.allocate()"
   ]
  },
  {
   "cell_type": "code",
   "execution_count": null,
   "id": "11",
   "metadata": {},
   "outputs": [],
   "source": [
    "f.concentration.loc[dict(specie='CO2')] = conc_df.values[:,None]"
   ]
  },
  {
   "cell_type": "code",
   "execution_count": null,
   "id": "12",
   "metadata": {},
   "outputs": [],
   "source": [
    "f.concentration.loc[dict(specie='CH4')] = 808.2490285\n",
    "f.concentration.loc[dict(specie='N2O')] = 273.021047"
   ]
  },
  {
   "cell_type": "code",
   "execution_count": null,
   "id": "13",
   "metadata": {},
   "outputs": [],
   "source": [
    "fair_params_df.columns"
   ]
  },
  {
   "cell_type": "code",
   "execution_count": null,
   "id": "14",
   "metadata": {},
   "outputs": [],
   "source": [
    "# Get default species configs\n",
    "f.fill_species_configs()\n",
    "\n",
    "# Climate response\n",
    "fill(f.climate_configs['ocean_heat_capacity'], fair_params_df.loc[:,'ocean_heat_capacity[0]':'ocean_heat_capacity[2]'])\n",
    "fill(f.climate_configs['ocean_heat_transfer'], fair_params_df.loc[:,'ocean_heat_transfer[0]':'ocean_heat_transfer[2]'])\n",
    "fill(f.climate_configs['deep_ocean_efficacy'], fair_params_df.loc[:,'deep_ocean_efficacy'])\n",
    "fill(f.climate_configs['gamma_autocorrelation'], fair_params_df.loc[:,'gamma_autocorrelation'])\n",
    "fill(f.climate_configs['stochastic_run'], False)\n",
    "\n",
    "# carbon cycle\n",
    "fill(f.species_configs['iirf_0'], fair_params_df.loc[:, 'iirf_0[CO2]'].values.squeeze(), specie='CO2')\n",
    "fill(f.species_configs['iirf_airborne'], fair_params_df.loc[:, 'iirf_airborne[CO2]'].values.squeeze(), specie='CO2')\n",
    "fill(f.species_configs['iirf_uptake'], fair_params_df.loc[:, 'iirf_uptake[CO2]'].values.squeeze(), specie='CO2')\n",
    "fill(f.species_configs['iirf_temperature'], fair_params_df.loc[:, 'iirf_temperature[CO2]'].values.squeeze(), specie='CO2')\n",
    "\n",
    "# Scale CO2 forcing based on its 4xCO2 calibration\n",
    "fill(f.species_configs[\"forcing_scale\"], fair_params_df[\"forcing_scale[CO2]\"].values.squeeze(), specie='CO2')"
   ]
  },
  {
   "cell_type": "code",
   "execution_count": null,
   "id": "15",
   "metadata": {},
   "outputs": [],
   "source": [
    "# initial condition of CO2 concentration (but not baseline for forcing calculations)\n",
    "fill(f.species_configs['baseline_concentration'], 284.3169988, specie='CO2')\n",
    "fill(f.species_configs['baseline_concentration'], 808.2490285, specie='CH4')\n",
    "fill(f.species_configs['baseline_concentration'], 273.021047, specie='N2O')"
   ]
  },
  {
   "cell_type": "code",
   "execution_count": null,
   "id": "16",
   "metadata": {},
   "outputs": [],
   "source": [
    "fill(f.species_configs['forcing_reference_concentration'], 284.3169988, specie='CO2')\n",
    "fill(f.species_configs['forcing_reference_concentration'], 808.2490285, specie='CH4')\n",
    "fill(f.species_configs['forcing_reference_concentration'], 273.021047, specie='N2O')"
   ]
  },
  {
   "cell_type": "code",
   "execution_count": null,
   "id": "17",
   "metadata": {},
   "outputs": [],
   "source": [
    "# set initial conditions\n",
    "initialise(f.concentration, f.species_configs['baseline_concentration'])\n",
    "initialise(f.forcing, 0)\n",
    "initialise(f.temperature, 0)\n",
    "initialise(f.airborne_emissions, 0)\n",
    "initialise(f.cumulative_emissions, 0)"
   ]
  },
  {
   "cell_type": "code",
   "execution_count": null,
   "id": "18",
   "metadata": {},
   "outputs": [],
   "source": [
    "f.run()"
   ]
  },
  {
   "cell_type": "code",
   "execution_count": null,
   "id": "19",
   "metadata": {},
   "outputs": [],
   "source": [
    "f.forcing"
   ]
  },
  {
   "cell_type": "code",
   "execution_count": null,
   "id": "20",
   "metadata": {},
   "outputs": [],
   "source": [
    "f.temperature[70, 0, :, 0]"
   ]
  },
  {
   "cell_type": "code",
   "execution_count": null,
   "id": "21",
   "metadata": {},
   "outputs": [],
   "source": [
    "f.airborne_fraction[70, 0, :, 0]"
   ]
  },
  {
   "cell_type": "code",
   "execution_count": null,
   "id": "22",
   "metadata": {},
   "outputs": [],
   "source": [
    "# doubling of pre-industrial CO2 in GtCO2 added to atmosphere\n",
    "284.3169988 * 2.124"
   ]
  },
  {
   "cell_type": "code",
   "execution_count": null,
   "id": "23",
   "metadata": {},
   "outputs": [],
   "source": [
    "# TCRE\n",
    "tcre = f.temperature[70, 0, :, 0] * f.airborne_fraction[70, 0, :, 0] / (284.3169988 * 2.124 / 1000)"
   ]
  },
  {
   "cell_type": "code",
   "execution_count": null,
   "id": "24",
   "metadata": {},
   "outputs": [],
   "source": [
    "df = pd.DataFrame(tcre.to_pandas(), columns=['tcre'])"
   ]
  },
  {
   "cell_type": "code",
   "execution_count": null,
   "id": "25",
   "metadata": {},
   "outputs": [],
   "source": [
    "df.index = fair_params_df.index"
   ]
  },
  {
   "cell_type": "code",
   "execution_count": null,
   "id": "26",
   "metadata": {},
   "outputs": [],
   "source": [
    "df"
   ]
  },
  {
   "cell_type": "code",
   "execution_count": null,
   "id": "27",
   "metadata": {},
   "outputs": [],
   "source": [
    "df.to_csv('../data/1pct_tcre.csv') "
   ]
  },
  {
   "cell_type": "code",
   "execution_count": null,
   "id": "28",
   "metadata": {},
   "outputs": [],
   "source": [
    "df.tcre.median()"
   ]
  },
  {
   "cell_type": "code",
   "execution_count": null,
   "id": "29",
   "metadata": {},
   "outputs": [],
   "source": [
    "(f.cumulative_emissions[140, 0, :, 0] / 3.664 < 2000).sum()"
   ]
  },
  {
   "cell_type": "code",
   "execution_count": null,
   "id": "30",
   "metadata": {},
   "outputs": [],
   "source": [
    "f.cumulative_emissions - f.airborne_emissions"
   ]
  },
  {
   "cell_type": "code",
   "execution_count": null,
   "id": "31",
   "metadata": {},
   "outputs": [],
   "source": []
  }
 ],
 "metadata": {
  "kernelspec": {
   "display_name": "Python 3 (ipykernel)",
   "language": "python",
   "name": "python3"
  },
  "language_info": {
   "codemirror_mode": {
    "name": "ipython",
    "version": 3
   },
   "file_extension": ".py",
   "mimetype": "text/x-python",
   "name": "python",
   "nbconvert_exporter": "python",
   "pygments_lexer": "ipython3",
   "version": "3.13.1"
  }
 },
 "nbformat": 4,
 "nbformat_minor": 5
}
