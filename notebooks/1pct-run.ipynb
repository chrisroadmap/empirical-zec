{
 "cells": [
  {
   "cell_type": "markdown",
   "id": "895dc0df",
   "metadata": {},
   "source": [
    "# 1pct runs\n",
    "\n",
    "Do a 1pct C-driven run to calculate TCRE."
   ]
  },
  {
   "cell_type": "code",
   "execution_count": null,
   "id": "3b294757",
   "metadata": {},
   "outputs": [],
   "source": [
    "import copy\n",
    "\n",
    "from fair import FAIR\n",
    "from fair.interface import fill, initialise\n",
    "from fair.io import read_properties\n",
    "import pandas as pd\n",
    "import numpy as np\n",
    "import matplotlib.pyplot as pl\n",
    "from tqdm.auto import tqdm\n",
    "from scipy.stats import linregress\n",
    "import xarray as xr"
   ]
  },
  {
   "cell_type": "code",
   "execution_count": null,
   "id": "94c90d21",
   "metadata": {},
   "outputs": [],
   "source": [
    "f = FAIR()\n",
    "scenarios = ['1pctCO2']\n",
    "f.define_time(1850, 1990, 1)"
   ]
  },
  {
   "cell_type": "code",
   "execution_count": null,
   "id": "b402df83",
   "metadata": {},
   "outputs": [],
   "source": [
    "species, properties = read_properties()"
   ]
  },
  {
   "cell_type": "code",
   "execution_count": null,
   "id": "cddbb023",
   "metadata": {},
   "outputs": [],
   "source": [
    "da_concentration = xr.load_dataarray(\"../data/1pctCO2_concentration_1850-1990.nc\")"
   ]
  },
  {
   "cell_type": "code",
   "execution_count": null,
   "id": "69773d6e",
   "metadata": {},
   "outputs": [],
   "source": []
  }
 ],
 "metadata": {
  "kernelspec": {
   "display_name": "Python 3 (ipykernel)",
   "language": "python",
   "name": "python3"
  },
  "language_info": {
   "codemirror_mode": {
    "name": "ipython",
    "version": 3
   },
   "file_extension": ".py",
   "mimetype": "text/x-python",
   "name": "python",
   "nbconvert_exporter": "python",
   "pygments_lexer": "ipython3",
   "version": "3.11.3"
  }
 },
 "nbformat": 4,
 "nbformat_minor": 5
}
