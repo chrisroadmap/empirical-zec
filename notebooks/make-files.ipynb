{
 "cells": [
  {
   "cell_type": "code",
   "execution_count": null,
   "id": "55de7d26",
   "metadata": {},
   "outputs": [],
   "source": [
    "import pandas as pd"
   ]
  },
  {
   "cell_type": "code",
   "execution_count": null,
   "id": "8202f239",
   "metadata": {},
   "outputs": [],
   "source": [
    "step1 = pd.read_csv('../data/step1.csv')"
   ]
  },
  {
   "cell_type": "code",
   "execution_count": null,
   "id": "2b48c493",
   "metadata": {},
   "outputs": [],
   "source": [
    "cats = pd.read_csv('../data/ar6_scenario_categories_cleaned.csv')"
   ]
  },
  {
   "cell_type": "code",
   "execution_count": null,
   "id": "51ae10a0",
   "metadata": {},
   "outputs": [],
   "source": [
    "c1modscens = []\n",
    "for irow, row in cats[cats['Category']=='C1'].iterrows():\n",
    "    c1modscens.append((row.model, row.scenario))"
   ]
  },
  {
   "cell_type": "code",
   "execution_count": null,
   "id": "b506043b",
   "metadata": {},
   "outputs": [],
   "source": [
    "c1modscens"
   ]
  },
  {
   "cell_type": "code",
   "execution_count": null,
   "id": "a3cd8058",
   "metadata": {},
   "outputs": [],
   "source": [
    "step2 = step1.copy()\n",
    "for irow, row in step1.iterrows():\n",
    "    modscen = (row.Model, row.Scenario)\n",
    "    if modscen not in c1modscens:\n",
    "        step2.drop(labels=irow, axis=0, inplace=True)"
   ]
  },
  {
   "cell_type": "code",
   "execution_count": null,
   "id": "230dfc35",
   "metadata": {},
   "outputs": [],
   "source": [
    "step2"
   ]
  },
  {
   "cell_type": "code",
   "execution_count": null,
   "id": "c1593a72",
   "metadata": {},
   "outputs": [],
   "source": [
    "step2.to_csv('../data/c1_emissions_scenarios.csv', index=False)"
   ]
  },
  {
   "cell_type": "code",
   "execution_count": null,
   "id": "989b5383",
   "metadata": {},
   "outputs": [],
   "source": []
  }
 ],
 "metadata": {
  "kernelspec": {
   "display_name": "Python 3 (ipykernel)",
   "language": "python",
   "name": "python3"
  },
  "language_info": {
   "codemirror_mode": {
    "name": "ipython",
    "version": 3
   },
   "file_extension": ".py",
   "mimetype": "text/x-python",
   "name": "python",
   "nbconvert_exporter": "python",
   "pygments_lexer": "ipython3",
   "version": "3.10.6"
  }
 },
 "nbformat": 4,
 "nbformat_minor": 5
}
