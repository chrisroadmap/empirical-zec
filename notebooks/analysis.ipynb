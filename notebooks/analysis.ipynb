{
 "cells": [
  {
   "cell_type": "code",
   "execution_count": null,
   "id": "4524b48d",
   "metadata": {},
   "outputs": [],
   "source": [
    "import numpy as np\n",
    "import pandas as pd\n",
    "from tqdm.auto import tqdm\n",
    "import matplotlib.pyplot as pl\n",
    "from scipy.stats import linregress"
   ]
  },
  {
   "cell_type": "code",
   "execution_count": null,
   "id": "c09d9c89",
   "metadata": {},
   "outputs": [],
   "source": [
    "temp = np.load('../data/temp_c1.npy')\n",
    "co2_emissions = np.load('../data/co2_emissions_c1.npy')\n",
    "co2_cumulative = np.load('../data/co2_cumulative_c1.npy')"
   ]
  },
  {
   "cell_type": "code",
   "execution_count": null,
   "id": "ecfcae4b",
   "metadata": {},
   "outputs": [],
   "source": [
    "netzero_times = np.array([co2_emissions<0]).argmax(axis=1).squeeze()\n",
    "netzero_times"
   ]
  },
  {
   "cell_type": "code",
   "execution_count": null,
   "id": "c9ea5763",
   "metadata": {},
   "outputs": [],
   "source": [
    "co2_cumulative[netzero_times, :]"
   ]
  },
  {
   "cell_type": "code",
   "execution_count": null,
   "id": "2d978461",
   "metadata": {},
   "outputs": [],
   "source": [
    "netzero_to_2100_cumulative_emissions = np.zeros(97)\n",
    "for iscen in tqdm(range(97)):\n",
    "    netzero_to_2100_cumulative_emissions[iscen] = (co2_cumulative[-1,iscen] - co2_cumulative[netzero_times[iscen], iscen])"
   ]
  },
  {
   "cell_type": "code",
   "execution_count": null,
   "id": "94e8c785",
   "metadata": {},
   "outputs": [],
   "source": [
    "# exclude scenarios that don't reach net zero\n",
    "netzero_to_2100_cumulative_emissions[netzero_to_2100_cumulative_emissions > 0] = np.nan\n",
    "netzero_to_2100_cumulative_emissions"
   ]
  },
  {
   "cell_type": "code",
   "execution_count": null,
   "id": "55cea7a1",
   "metadata": {},
   "outputs": [],
   "source": [
    "peak_times = np.zeros((97, 1001))\n",
    "peak_times = temp.argmax(axis=0)"
   ]
  },
  {
   "cell_type": "code",
   "execution_count": null,
   "id": "8b2df3e3",
   "metadata": {},
   "outputs": [],
   "source": [
    "temperature_drawdown = np.zeros((97,1001))\n",
    "for iscen in tqdm(range(97)):\n",
    "    for iconfig in range(1001):\n",
    "        temperature_drawdown[iscen, iconfig] = temp[netzero_times[iscen],iscen,iconfig]-temp[-1,iscen,iconfig]"
   ]
  },
  {
   "cell_type": "code",
   "execution_count": null,
   "id": "43e66063",
   "metadata": {},
   "outputs": [],
   "source": [
    "pl.hist(temperature_drawdown[2,:])"
   ]
  },
  {
   "cell_type": "code",
   "execution_count": null,
   "id": "ffd8f594",
   "metadata": {},
   "outputs": [],
   "source": [
    "pc05 = np.percentile(temperature_drawdown, 5, axis=1)\n",
    "pc50 = np.percentile(temperature_drawdown, 50, axis=1)\n",
    "pc95 = np.percentile(temperature_drawdown, 95, axis=1)\n",
    "\n",
    "netzero = ~np.isnan(netzero_to_2100_cumulative_emissions)"
   ]
  },
  {
   "cell_type": "code",
   "execution_count": null,
   "id": "26f01190",
   "metadata": {},
   "outputs": [],
   "source": [
    "pl.scatter(-pc50[netzero], netzero_to_2100_cumulative_emissions[netzero])\n",
    "pl.scatter(-pc05[netzero], netzero_to_2100_cumulative_emissions[netzero])\n",
    "pl.scatter(-pc95[netzero], netzero_to_2100_cumulative_emissions[netzero])\n",
    "pl.xlabel('Temperature peak to 2100')\n",
    "pl.ylabel('Cumulative CO2, net zero to 2100')\n",
    "\n",
    "sl50, ic50, _, _, _ = linregress(-pc50[netzero], netzero_to_2100_cumulative_emissions[netzero])\n",
    "x = np.linspace(-0.35, 0)\n",
    "pl.plot(x, sl50*x + ic50)\n",
    "print(sl50, ic50)\n",
    "\n",
    "sl05, ic05, _, _, _ = linregress(-pc05[netzero], netzero_to_2100_cumulative_emissions[netzero])\n",
    "x = np.linspace(-0.13, 0)\n",
    "pl.plot(x, sl05*x + ic05)\n",
    "print(sl05, ic05)\n",
    "\n",
    "sl95, ic95, _, _, _ = linregress(-pc95[netzero], netzero_to_2100_cumulative_emissions[netzero])\n",
    "x = np.linspace(-0.5, 0)\n",
    "pl.plot(x, sl95*x + ic95)\n",
    "print(sl95, ic95)"
   ]
  },
  {
   "cell_type": "code",
   "execution_count": null,
   "id": "5d6acb6a",
   "metadata": {},
   "outputs": [],
   "source": [
    "3664/sl50  # effective TCRE"
   ]
  },
  {
   "cell_type": "code",
   "execution_count": null,
   "id": "a8877425",
   "metadata": {},
   "outputs": [],
   "source": [
    "ic50/sl50  # -ZEC"
   ]
  },
  {
   "cell_type": "code",
   "execution_count": null,
   "id": "9fde8fbc",
   "metadata": {},
   "outputs": [],
   "source": [
    "# I don't think ensemble averaging approach is working in the all-forcings case\n",
    "3664/sl05, 3664/sl95"
   ]
  },
  {
   "cell_type": "code",
   "execution_count": null,
   "id": "7f84bddf",
   "metadata": {},
   "outputs": [],
   "source": [
    "ic05/sl05, ic95/sl95  # take negative of"
   ]
  },
  {
   "cell_type": "code",
   "execution_count": null,
   "id": "45c15fa3",
   "metadata": {},
   "outputs": [],
   "source": [
    "peak_times_median_warming = np.zeros((97))\n",
    "peak_times_median_warming = np.median(temp, axis=2).argmax(axis=0)\n",
    "peak_times_median_warming"
   ]
  },
  {
   "cell_type": "code",
   "execution_count": null,
   "id": "be3d75f5",
   "metadata": {},
   "outputs": [],
   "source": [
    "peak_times_median_warming.shape"
   ]
  },
  {
   "cell_type": "code",
   "execution_count": null,
   "id": "f86f62cb",
   "metadata": {},
   "outputs": [],
   "source": [
    "co2_emissions.shape#[[peak_times_median_warming]]"
   ]
  },
  {
   "cell_type": "code",
   "execution_count": null,
   "id": "465594c7",
   "metadata": {},
   "outputs": [],
   "source": [
    "x = np.ones(97) * np.nan\n",
    "\n",
    "for iscen in range(97):\n",
    "    if peak_times_median_warming[iscen] < 106:\n",
    "        x[iscen] = co2_emissions[peak_times_median_warming[iscen], iscen]"
   ]
  },
  {
   "cell_type": "code",
   "execution_count": null,
   "id": "9bdc54c7",
   "metadata": {},
   "outputs": [],
   "source": [
    "pl.hist(x)"
   ]
  },
  {
   "cell_type": "code",
   "execution_count": null,
   "id": "00ac60ae",
   "metadata": {},
   "outputs": [],
   "source": [
    "np.nanmedian(x)"
   ]
  },
  {
   "cell_type": "code",
   "execution_count": null,
   "id": "6e41cdee",
   "metadata": {},
   "outputs": [],
   "source": [
    "np.median(temp, axis=2)[:, 0]"
   ]
  },
  {
   "cell_type": "code",
   "execution_count": null,
   "id": "2d1bb3d4",
   "metadata": {},
   "outputs": [],
   "source": [
    "peak_times_median_warming"
   ]
  },
  {
   "cell_type": "code",
   "execution_count": null,
   "id": "c5d347b8",
   "metadata": {},
   "outputs": [],
   "source": [
    "co2_emissions[:, 0]"
   ]
  },
  {
   "cell_type": "code",
   "execution_count": null,
   "id": "7c799a15",
   "metadata": {},
   "outputs": [],
   "source": [
    "peak_times_median_warming"
   ]
  },
  {
   "cell_type": "code",
   "execution_count": null,
   "id": "c504b248",
   "metadata": {},
   "outputs": [],
   "source": [
    "np.median(np.median(temp, axis=2), axis=1)"
   ]
  },
  {
   "cell_type": "code",
   "execution_count": null,
   "id": "7fc44191",
   "metadata": {},
   "outputs": [],
   "source": [
    "fair_params_df = pd.read_csv('../data/calibrated_constrained_parameters.csv', index_col=0)"
   ]
  },
  {
   "cell_type": "code",
   "execution_count": null,
   "id": "c126a134",
   "metadata": {},
   "outputs": [],
   "source": [
    "dataout = np.zeros((1001,5))\n",
    "\n",
    "for iconfig, config in enumerate(fair_params_df.index):\n",
    "    sl, ic, _, _, _ = linregress(-temperature_drawdown[netzero,iconfig], netzero_to_2100_cumulative_emissions[netzero])\n",
    "    print(sl, ic, 3664/sl, -ic/sl)\n",
    "    dataout[iconfig, :] = [config, sl, ic, 3664/sl, -ic/sl]"
   ]
  },
  {
   "cell_type": "code",
   "execution_count": null,
   "id": "612f3a98",
   "metadata": {},
   "outputs": [],
   "source": [
    "df = pd.DataFrame(dataout, columns=['config', 'slope', 'intercept', 'tcre_postpeak', 'zec'])"
   ]
  },
  {
   "cell_type": "code",
   "execution_count": null,
   "id": "3ab851f6",
   "metadata": {},
   "outputs": [],
   "source": [
    "df = df.astype({'config': 'int32'})"
   ]
  },
  {
   "cell_type": "code",
   "execution_count": null,
   "id": "af93deab",
   "metadata": {},
   "outputs": [],
   "source": [
    "df.set_index('config', inplace=True)"
   ]
  },
  {
   "cell_type": "code",
   "execution_count": null,
   "id": "4c4b67b7",
   "metadata": {},
   "outputs": [],
   "source": [
    "df"
   ]
  },
  {
   "cell_type": "code",
   "execution_count": null,
   "id": "71ad4b38",
   "metadata": {},
   "outputs": [],
   "source": [
    "df.to_csv('../data/fair_1001_c1_scenarios_effective_tcre_zec.csv')"
   ]
  },
  {
   "cell_type": "code",
   "execution_count": null,
   "id": "93f94a9a",
   "metadata": {},
   "outputs": [],
   "source": [
    "temp.shape"
   ]
  },
  {
   "cell_type": "code",
   "execution_count": null,
   "id": "81a2a3c7",
   "metadata": {},
   "outputs": [],
   "source": [
    "co2_cumulative.shape"
   ]
  },
  {
   "cell_type": "code",
   "execution_count": null,
   "id": "6c4eeffa",
   "metadata": {},
   "outputs": [],
   "source": [
    "pl.plot(co2_cumulative[netzero_times[1]+5:, 1], temp[netzero_times[1]+5:, 1, :]);"
   ]
  }
 ],
 "metadata": {
  "kernelspec": {
   "display_name": "Python 3 (ipykernel)",
   "language": "python",
   "name": "python3"
  },
  "language_info": {
   "codemirror_mode": {
    "name": "ipython",
    "version": 3
   },
   "file_extension": ".py",
   "mimetype": "text/x-python",
   "name": "python",
   "nbconvert_exporter": "python",
   "pygments_lexer": "ipython3",
   "version": "3.11.3"
  }
 },
 "nbformat": 4,
 "nbformat_minor": 5
}
