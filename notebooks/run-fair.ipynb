{
 "cells": [
  {
   "cell_type": "code",
   "execution_count": null,
   "id": "a20373cb",
   "metadata": {},
   "outputs": [],
   "source": [
    "from fair import FAIR"
   ]
  },
  {
   "cell_type": "code",
   "execution_count": null,
   "id": "eb2fec0b",
   "metadata": {},
   "outputs": [],
   "source": [
    "from fair.interface import fill, initialise\n",
    "from fair.io import read_properties"
   ]
  },
  {
   "cell_type": "code",
   "execution_count": null,
   "id": "01f44a27",
   "metadata": {},
   "outputs": [],
   "source": [
    "import pandas as pd"
   ]
  },
  {
   "cell_type": "code",
   "execution_count": null,
   "id": "b4a6e28a",
   "metadata": {},
   "outputs": [],
   "source": [
    "import numpy as np"
   ]
  },
  {
   "cell_type": "code",
   "execution_count": null,
   "id": "b29f7b7d",
   "metadata": {},
   "outputs": [],
   "source": [
    "import copy"
   ]
  },
  {
   "cell_type": "code",
   "execution_count": null,
   "id": "56b9fee4",
   "metadata": {},
   "outputs": [],
   "source": [
    "import matplotlib.pyplot as pl"
   ]
  },
  {
   "cell_type": "code",
   "execution_count": null,
   "id": "f95aab09",
   "metadata": {},
   "outputs": [],
   "source": [
    "f = FAIR(ch4_method='thornhill2021')"
   ]
  },
  {
   "cell_type": "code",
   "execution_count": null,
   "id": "b5bd848d",
   "metadata": {},
   "outputs": [],
   "source": [
    "f.define_time(1750, 2101, 1)"
   ]
  },
  {
   "cell_type": "code",
   "execution_count": null,
   "id": "a6bfaf68",
   "metadata": {},
   "outputs": [],
   "source": [
    "scen_df = pd.read_csv('../data/c1_emissions_scenarios.csv')"
   ]
  },
  {
   "cell_type": "code",
   "execution_count": null,
   "id": "c03dbbe5",
   "metadata": {},
   "outputs": [],
   "source": [
    "scen_labels = pd.unique(list(zip(scen_df.Model, scen_df.Scenario)))"
   ]
  },
  {
   "cell_type": "code",
   "execution_count": null,
   "id": "12e08436",
   "metadata": {},
   "outputs": [],
   "source": [
    "scenarios = [f'{scen[0]}___{scen[1]}' for scen in scen_labels]"
   ]
  },
  {
   "cell_type": "code",
   "execution_count": null,
   "id": "0a46bbd8",
   "metadata": {},
   "outputs": [],
   "source": [
    "# do one at a time\n",
    "scenarios = [scenarios[0]]\n",
    "f.define_scenarios(scenarios)\n",
    "fair_params_df = pd.read_csv('../data/ar6_calibration_ebm3.csv', index_col=0)"
   ]
  },
  {
   "cell_type": "code",
   "execution_count": null,
   "id": "0153c1d1",
   "metadata": {},
   "outputs": [],
   "source": [
    "f.define_configs(list(fair_params_df.index))"
   ]
  },
  {
   "cell_type": "code",
   "execution_count": null,
   "id": "60bb73b2",
   "metadata": {},
   "outputs": [],
   "source": [
    "# load up default list of species and their properties\n",
    "species, properties = read_properties()\n",
    "\n",
    "# drop aviation NOx and contrails as they are not in the future scenarios\n",
    "species.remove('Contrails')    # not modelled in UKESM, I think\n",
    "species.remove('NOx aviation') # which renders this redundant\n",
    "\n",
    "del properties['Contrails']\n",
    "del properties['NOx aviation']\n",
    "\n",
    "# declare species and properties\n",
    "f.define_species(species, properties)"
   ]
  },
  {
   "cell_type": "code",
   "execution_count": null,
   "id": "c34a7bee",
   "metadata": {},
   "outputs": [],
   "source": [
    "f.allocate()"
   ]
  },
  {
   "cell_type": "code",
   "execution_count": null,
   "id": "06dcfb20",
   "metadata": {},
   "outputs": [],
   "source": [
    "hist_df = pd.read_csv('../data/historical_emissions.csv')"
   ]
  },
  {
   "cell_type": "code",
   "execution_count": null,
   "id": "09d4bd45",
   "metadata": {},
   "outputs": [],
   "source": [
    "hist_df"
   ]
  },
  {
   "cell_type": "code",
   "execution_count": null,
   "id": "feadd6c7",
   "metadata": {},
   "outputs": [],
   "source": [
    "emitted_species_pipeline_names = [var.split('|')[-1] for var in hist_df.Variable]"
   ]
  },
  {
   "cell_type": "code",
   "execution_count": null,
   "id": "053c722a",
   "metadata": {},
   "outputs": [],
   "source": [
    "emitted_species_pipeline_names"
   ]
  },
  {
   "cell_type": "code",
   "execution_count": null,
   "id": "d079a8e2",
   "metadata": {},
   "outputs": [],
   "source": [
    "species_name_mapping = {name: name for name in emitted_species_pipeline_names}"
   ]
  },
  {
   "cell_type": "code",
   "execution_count": null,
   "id": "e3391ba8",
   "metadata": {},
   "outputs": [],
   "source": [
    "# hand edits  target_dict[n_key] = target_dict.pop(key)\n",
    "species_name_mapping['CO2 AFOLU'] = species_name_mapping.pop('MAGICC AFOLU')\n",
    "species_name_mapping['CO2 FFI'] = species_name_mapping.pop('MAGICC Fossil and Industrial')\n",
    "species_name_mapping['HFC-125'] = species_name_mapping.pop('HFC125')\n",
    "species_name_mapping['HFC-134a'] = species_name_mapping.pop('HFC134a')\n",
    "species_name_mapping['HFC-143a'] = species_name_mapping.pop('HFC143a')\n",
    "species_name_mapping['HFC-152a'] = species_name_mapping.pop('HFC152a')\n",
    "species_name_mapping['HFC-227ea'] = species_name_mapping.pop('HFC227ea')\n",
    "species_name_mapping['HFC-23'] = species_name_mapping.pop('HFC23')\n",
    "species_name_mapping['HFC-236fa'] = species_name_mapping.pop('HFC236fa')\n",
    "species_name_mapping['HFC-245fa'] = species_name_mapping.pop('HFC245fa')\n",
    "species_name_mapping['HFC-32'] = species_name_mapping.pop('HFC32')\n",
    "species_name_mapping['HFC-365mfc'] = species_name_mapping.pop('HFC365mfc')\n",
    "species_name_mapping['HFC-4310mee'] = species_name_mapping.pop('HFC4310mee')\n",
    "species_name_mapping['CFC-11'] = species_name_mapping.pop('CFC11')\n",
    "species_name_mapping['CFC-12'] = species_name_mapping.pop('CFC12')\n",
    "species_name_mapping['CFC-113'] = species_name_mapping.pop('CFC113')\n",
    "species_name_mapping['CFC-114'] = species_name_mapping.pop('CFC114')\n",
    "species_name_mapping['CFC-115'] = species_name_mapping.pop('CFC115')\n",
    "species_name_mapping['HCFC-22'] = species_name_mapping.pop('HCFC22')\n",
    "species_name_mapping['HCFC-141b'] = species_name_mapping.pop('HCFC141b')\n",
    "species_name_mapping['HCFC-142b'] = species_name_mapping.pop('HCFC142b')\n",
    "species_name_mapping['Halon-1202'] = species_name_mapping.pop('Halon1202')\n",
    "species_name_mapping['Halon-1211'] = species_name_mapping.pop('Halon1211')\n",
    "species_name_mapping['Halon-1301'] = species_name_mapping.pop('Halon1301')\n",
    "species_name_mapping['Halon-2402'] = species_name_mapping.pop('Halon2402')\n",
    "species_name_mapping['c-C4F8'] = species_name_mapping.pop('cC4F8')"
   ]
  },
  {
   "cell_type": "code",
   "execution_count": null,
   "id": "0d398832",
   "metadata": {},
   "outputs": [],
   "source": [
    "# Jeebus, this is frustrating the lack of naming consistency\n",
    "species_name_mapping_future = copy.deepcopy(species_name_mapping)\n",
    "species_name_mapping_future['CO2 AFOLU'] = 'AFOLU'\n",
    "species_name_mapping_future['CO2 FFI'] = 'Energy and Industrial Processes'\n",
    "species_name_mapping_future['HFC-245fa'] = 'HFC245ca'  # this is an error?\n",
    "species_name_mapping_future['HFC-4310mee'] = 'HFC43-10'"
   ]
  },
  {
   "cell_type": "code",
   "execution_count": null,
   "id": "41777a65",
   "metadata": {},
   "outputs": [],
   "source": [
    "# argh, and the frigging daft units\n",
    "unit_convert = {specie: 1 for specie in species}\n",
    "unit_convert['CO2 AFOLU'] = 1/1000\n",
    "unit_convert['CO2 FFI'] = 1/1000\n",
    "unit_convert['N2O'] = 1/1000"
   ]
  },
  {
   "cell_type": "code",
   "execution_count": null,
   "id": "f5828ecd",
   "metadata": {},
   "outputs": [],
   "source": [
    "for scenario in scenarios:\n",
    "    for specie, pipeline_name in species_name_mapping.items():\n",
    "        f.emissions.loc[\n",
    "            dict(scenario=scenario, specie=specie, timepoints=np.arange(1750.5, 2015))\n",
    "        ] = hist_df.loc[hist_df['Variable'].str.endswith(f\"|{pipeline_name}\"), '1750':'2014'].values.T * unit_convert[specie]\n",
    "        model, scen = scenario.split('___')\n",
    "        f.emissions.loc[\n",
    "            dict(scenario=scenario, specie=specie, timepoints=np.arange(2015.5, 2101))\n",
    "        ] = scen_df.loc[\n",
    "            (scen_df['Variable'].str.endswith(f\"|{species_name_mapping_future[specie]}\")) &\n",
    "            (scen_df['Scenario']==scen) &\n",
    "            (scen_df['Model']==model),\n",
    "            '2015':'2100'\n",
    "        ].values.T * unit_convert[specie]"
   ]
  },
  {
   "cell_type": "code",
   "execution_count": null,
   "id": "72334e99",
   "metadata": {},
   "outputs": [],
   "source": [
    "f.emissions"
   ]
  },
  {
   "cell_type": "code",
   "execution_count": null,
   "id": "e693d8a1",
   "metadata": {},
   "outputs": [],
   "source": [
    "# get solar and volcanic forcing from AR6\n",
    "ar6_forcing_df = pd.read_csv('../data/table_A3.3_historical_ERF_1750-2019_best_estimate.csv', index_col=0)\n",
    "ar6_forcing_df"
   ]
  },
  {
   "cell_type": "code",
   "execution_count": null,
   "id": "437d2c81",
   "metadata": {},
   "outputs": [],
   "source": [
    "# Ramp volcanic down to zero over a decade, following CMIP6 convention\n",
    "volcanic_forcing = np.zeros(352)\n",
    "volcanic_forcing[:270] = ar6_forcing_df['volcanic'].values\n",
    "volcanic_forcing[269:281] = np.linspace(1, 0, 12) * volcanic_forcing[269]"
   ]
  },
  {
   "cell_type": "code",
   "execution_count": null,
   "id": "ce2a2fef",
   "metadata": {},
   "outputs": [],
   "source": [
    "# Use a zero solar amplitude post-2019, to isolate anthropogenic warming signal\n",
    "solar_forcing=np.zeros(352)\n",
    "solar_forcing[:270] = ar6_forcing_df['solar'].values"
   ]
  },
  {
   "cell_type": "code",
   "execution_count": null,
   "id": "ab5974d6",
   "metadata": {},
   "outputs": [],
   "source": [
    "# Put volcanic forcing into FaIR\n",
    "fill(\n",
    "    f.forcing, \n",
    "    volcanic_forcing[:, None, None] * fair_params_df.loc[:, 'scale Volcanic'].values[None, None, :], \n",
    "    specie='Volcanic'\n",
    ")"
   ]
  },
  {
   "cell_type": "code",
   "execution_count": null,
   "id": "16bf5f6a",
   "metadata": {},
   "outputs": [],
   "source": [
    "# Put solar forcing into FaIR\n",
    "trend_shape = np.ones(352)\n",
    "trend_shape[:271] = np.linspace(0, 1, 271)\n",
    "\n",
    "fill(f.forcing, \n",
    "     solar_forcing[:, None, None] * \n",
    "     fair_params_df.loc[:, 'solar_amplitude'].values.squeeze() + \n",
    "     trend_shape[:, None, None] * fair_params_df.loc[:, 'solar_trend'].values.squeeze(),\n",
    "     specie='Solar'\n",
    ")"
   ]
  },
  {
   "cell_type": "code",
   "execution_count": null,
   "id": "2b6d1c89",
   "metadata": {},
   "outputs": [],
   "source": [
    "# Get default species configs\n",
    "f.fill_species_configs()\n",
    "\n",
    "# Climate response\n",
    "fill(f.climate_configs['ocean_heat_capacity'], fair_params_df.loc[:,'c1':'c3'])\n",
    "fill(f.climate_configs['ocean_heat_transfer'], fair_params_df.loc[:,'kappa1':'kappa3'])\n",
    "fill(f.climate_configs['deep_ocean_efficacy'], fair_params_df.loc[:,'epsilon'])\n",
    "fill(f.climate_configs['gamma_autocorrelation'], fair_params_df.loc[:,'gamma'])\n",
    "fill(f.climate_configs['stochastic_run'], False)\n",
    "\n",
    "# carbon cycle\n",
    "fill(f.species_configs['iirf_0'], fair_params_df.loc[:, 'r0'].values.squeeze(), specie='CO2')\n",
    "fill(f.species_configs['iirf_airborne'], fair_params_df.loc[:, 'rA'].values.squeeze(), specie='CO2')\n",
    "fill(f.species_configs['iirf_uptake'], fair_params_df.loc[:, 'rU'].values.squeeze(), specie='CO2')\n",
    "fill(f.species_configs['iirf_temperature'], fair_params_df.loc[:, 'rT'].values.squeeze(), specie='CO2')\n",
    "\n",
    "# aerosol direct\n",
    "for specie in ['BC', 'CH4', 'N2O', 'NH3', 'NOx', 'OC', 'Sulfur', 'VOC', 'Equivalent effective stratospheric chlorine']:\n",
    "    fill(f.species_configs['erfari_radiative_efficiency'], fair_params_df.loc[:, f'ari {specie}'].values.squeeze(), specie=specie)\n",
    "\n",
    "# aerosol indirect\n",
    "fill(f.species_configs['aci_scale'], fair_params_df.loc[:, 'beta'].values.squeeze())\n",
    "fill(f.species_configs['aci_shape'], fair_params_df.loc[:, 'shape_so2'].values.squeeze(), specie='Sulfur')\n",
    "fill(f.species_configs['aci_shape'], fair_params_df.loc[:, 'shape_bc'].values.squeeze(), specie='BC')\n",
    "fill(f.species_configs['aci_shape'], fair_params_df.loc[:, 'shape_oc'].values.squeeze(), specie='OC')\n",
    "\n",
    "# ozone\n",
    "for specie in ['CH4', 'N2O', 'Equivalent effective stratospheric chlorine', 'CO', 'VOC', 'NOx']:\n",
    "    fill(f.species_configs['ozone_radiative_efficiency'], fair_params_df.loc[:, f'o3 {specie}'], specie=specie)\n",
    "\n",
    "# methane lifetime baseline\n",
    "fill(f.species_configs['unperturbed_lifetime'], 10.4198121, specie='CH4')\n",
    "\n",
    "# emissions adjustments for N2O and CH4 \n",
    "fill(f.species_configs['baseline_emissions'], 19.019783117809567, specie='CH4')\n",
    "fill(f.species_configs['baseline_emissions'], 0.08602230754, specie='N2O')\n",
    "\n",
    "# forcing scaling\n",
    "for specie in ['CH4', 'N2O', 'Stratospheric water vapour', 'Light absorbing particles on snow and ice', 'Land use']:\n",
    "    fill(f.species_configs['forcing_scale'], fair_params_df.loc[:, f'scale {specie}'].values.squeeze(), specie=specie)\n",
    "for specie in ['CFC-11', 'CFC-12', 'CFC-113', 'CFC-114', 'CFC-115', 'HCFC-22', 'HCFC-141b', 'HCFC-142b',\n",
    "    'CCl4', 'CHCl3', 'CH2Cl2', 'CH3Cl', 'CH3CCl3', 'CH3Br', 'Halon-1211', 'Halon-1301', 'Halon-2402',\n",
    "    'CF4', 'C2F6', 'C3F8', 'c-C4F8', 'C4F10', 'C5F12', 'C6F14', 'C7F16', 'C8F18', 'NF3', 'SF6', 'SO2F2',\n",
    "    'HFC-125', 'HFC-134a', 'HFC-143a', 'HFC-152a', 'HFC-227ea', 'HFC-23', 'HFC-236fa', 'HFC-245fa', 'HFC-32',\n",
    "    'HFC-365mfc', 'HFC-4310mee']:\n",
    "    fill(f.species_configs['forcing_scale'], fair_params_df.loc[:, 'scale minorGHG'].values.squeeze(), specie=specie)\n",
    "\n",
    "# Scale CO2 forcing based on its 4xCO2 calibration\n",
    "calibrated_f4co2_mean = fair_params_df.loc[:,'F_4xCO2'].values.mean()\n",
    "fill(\n",
    "    f.species_configs['forcing_scale'], \n",
    "    1 + 0.561*(calibrated_f4co2_mean - fair_params_df.loc[:,'F_4xCO2'].values)/calibrated_f4co2_mean,\n",
    "    specie='CO2'\n",
    ")\n",
    "\n",
    "# tune down volcanic efficacy\n",
    "fill(f.species_configs['forcing_efficacy'], 0.6, specie='Volcanic')\n",
    "\n",
    "# initial condition of CO2 concentration (but not baseline for forcing calculations)\n",
    "fill(\n",
    "    f.species_configs['baseline_concentration'], \n",
    "    fair_params_df.loc[:, 'co2_concentration_1750'].values.squeeze(),\n",
    "    specie='CO2'\n",
    ")\n",
    "\n",
    "# Use interactive methane lifetime\n",
    "f.ch4_method='Thornhill2021'"
   ]
  },
  {
   "cell_type": "code",
   "execution_count": null,
   "id": "b066b68c",
   "metadata": {},
   "outputs": [],
   "source": [
    "# set initial conditions\n",
    "initialise(f.concentration, f.species_configs['baseline_concentration'])\n",
    "initialise(f.forcing, 0)\n",
    "initialise(f.temperature, 0)\n",
    "initialise(f.airborne_emissions, 0)\n",
    "initialise(f.cumulative_emissions, 0)"
   ]
  },
  {
   "cell_type": "code",
   "execution_count": null,
   "id": "0c6532c2",
   "metadata": {},
   "outputs": [],
   "source": [
    "f.run()"
   ]
  },
  {
   "cell_type": "code",
   "execution_count": null,
   "id": "6adbd5f2",
   "metadata": {},
   "outputs": [],
   "source": [
    "pl.plot(f.temperature[:,0,:,0] - f.temperature[100:151,0,:,0].mean(axis=0));"
   ]
  },
  {
   "cell_type": "code",
   "execution_count": null,
   "id": "b5c0b21f",
   "metadata": {},
   "outputs": [],
   "source": [
    "np.median((f.temperature[:,0,:,0] - f.temperature[100:151,0,:,0].mean(axis=0)), axis=1)[245:265].mean()"
   ]
  },
  {
   "cell_type": "code",
   "execution_count": null,
   "id": "b2b52e0e",
   "metadata": {},
   "outputs": [],
   "source": [
    "f.emissions[250, 0, 0, :]"
   ]
  },
  {
   "cell_type": "code",
   "execution_count": null,
   "id": "f21cb985",
   "metadata": {},
   "outputs": [],
   "source": [
    "first_negative = np.array([f.emissions[:,0,0,2]<0]).argmax()"
   ]
  },
  {
   "cell_type": "code",
   "execution_count": null,
   "id": "8454d50c",
   "metadata": {},
   "outputs": [],
   "source": [
    "f.emissions[first_negative-1:first_negative+1,0,0,2]"
   ]
  },
  {
   "cell_type": "code",
   "execution_count": null,
   "id": "4e01fb6f",
   "metadata": {},
   "outputs": [],
   "source": [
    "f.cumulative_emissions[first_negative-1:first_negative+1, 0, 0, 2]"
   ]
  },
  {
   "cell_type": "code",
   "execution_count": null,
   "id": "794b2f66",
   "metadata": {},
   "outputs": [],
   "source": [
    "f.cumulative_emissions[-2:,0,0,2].mean() - f.cumulative_emissions[first_negative, 0, 0, 2]"
   ]
  },
  {
   "cell_type": "code",
   "execution_count": null,
   "id": "f5a4c54c",
   "metadata": {},
   "outputs": [],
   "source": []
  }
 ],
 "metadata": {
  "kernelspec": {
   "display_name": "Python 3 (ipykernel)",
   "language": "python",
   "name": "python3"
  },
  "language_info": {
   "codemirror_mode": {
    "name": "ipython",
    "version": 3
   },
   "file_extension": ".py",
   "mimetype": "text/x-python",
   "name": "python",
   "nbconvert_exporter": "python",
   "pygments_lexer": "ipython3",
   "version": "3.10.6"
  }
 },
 "nbformat": 4,
 "nbformat_minor": 5
}
