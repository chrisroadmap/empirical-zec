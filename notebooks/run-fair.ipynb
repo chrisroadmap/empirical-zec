{
 "cells": [
  {
   "cell_type": "markdown",
   "id": "61cf9ac6",
   "metadata": {},
   "source": [
    "# Run FaIR full emissions\n",
    "\n",
    "We're using fair-calibrate 1.0. We're also changing the CH4 and N2O forcing baselines to be consistent with the CO2-only run.\n",
    "\n",
    "We are not time-rebasing warming."
   ]
  },
  {
   "cell_type": "code",
   "execution_count": null,
   "id": "a20373cb",
   "metadata": {},
   "outputs": [],
   "source": [
    "import copy\n",
    "\n",
    "from fair import FAIR\n",
    "from fair.interface import fill, initialise\n",
    "from fair.io import read_properties\n",
    "import pandas as pd\n",
    "import numpy as np\n",
    "import matplotlib.pyplot as pl\n",
    "from tqdm.auto import tqdm\n",
    "from scipy.stats import linregress"
   ]
  },
  {
   "cell_type": "code",
   "execution_count": null,
   "id": "db73c3c3",
   "metadata": {},
   "outputs": [],
   "source": [
    "f = FAIR()"
   ]
  },
  {
   "cell_type": "code",
   "execution_count": null,
   "id": "c91a6f51",
   "metadata": {},
   "outputs": [],
   "source": [
    "f.define_time(1750, 2101, 1)"
   ]
  },
  {
   "cell_type": "code",
   "execution_count": null,
   "id": "0b8f1fc0",
   "metadata": {},
   "outputs": [],
   "source": [
    "scen_df = pd.read_csv('../data/c1_emissions_scenarios.csv')"
   ]
  },
  {
   "cell_type": "code",
   "execution_count": null,
   "id": "ba6e55df",
   "metadata": {},
   "outputs": [],
   "source": [
    "scen_labels = pd.unique(list(zip(scen_df.Model, scen_df.Scenario)))"
   ]
  },
  {
   "cell_type": "code",
   "execution_count": null,
   "id": "4413733e",
   "metadata": {},
   "outputs": [],
   "source": [
    "all_scenarios = [f'{scen[0]}___{scen[1]}' for scen in scen_labels]"
   ]
  },
  {
   "cell_type": "code",
   "execution_count": null,
   "id": "53c304cd",
   "metadata": {},
   "outputs": [],
   "source": [
    "fair_params_df = pd.read_csv('../data/calibrated_constrained_parameters.csv', index_col=0)"
   ]
  },
  {
   "cell_type": "code",
   "execution_count": null,
   "id": "9a038d51",
   "metadata": {},
   "outputs": [],
   "source": [
    "hist_df = pd.read_csv('../data/historical_emissions.csv')"
   ]
  },
  {
   "cell_type": "code",
   "execution_count": null,
   "id": "f939a8ca",
   "metadata": {},
   "outputs": [],
   "source": [
    "temp = np.zeros((107, 97, 1001))\n",
    "co2_cumulative = np.zeros((107, 97))\n",
    "co2_emissions = np.zeros((106, 97))"
   ]
  },
  {
   "cell_type": "code",
   "execution_count": null,
   "id": "feadd6c7",
   "metadata": {},
   "outputs": [],
   "source": [
    "emitted_species_pipeline_names = [var.split('|')[-1] for var in hist_df.Variable]"
   ]
  },
  {
   "cell_type": "code",
   "execution_count": null,
   "id": "d079a8e2",
   "metadata": {},
   "outputs": [],
   "source": [
    "species_name_mapping = {name: name for name in emitted_species_pipeline_names}"
   ]
  },
  {
   "cell_type": "code",
   "execution_count": null,
   "id": "e3391ba8",
   "metadata": {},
   "outputs": [],
   "source": [
    "# hand edits  target_dict[n_key] = target_dict.pop(key)\n",
    "species_name_mapping['CO2 AFOLU'] = species_name_mapping.pop('MAGICC AFOLU')\n",
    "species_name_mapping['CO2 FFI'] = species_name_mapping.pop('MAGICC Fossil and Industrial')\n",
    "species_name_mapping['HFC-125'] = species_name_mapping.pop('HFC125')\n",
    "species_name_mapping['HFC-134a'] = species_name_mapping.pop('HFC134a')\n",
    "species_name_mapping['HFC-143a'] = species_name_mapping.pop('HFC143a')\n",
    "species_name_mapping['HFC-152a'] = species_name_mapping.pop('HFC152a')\n",
    "species_name_mapping['HFC-227ea'] = species_name_mapping.pop('HFC227ea')\n",
    "species_name_mapping['HFC-23'] = species_name_mapping.pop('HFC23')\n",
    "species_name_mapping['HFC-236fa'] = species_name_mapping.pop('HFC236fa')\n",
    "species_name_mapping['HFC-245fa'] = species_name_mapping.pop('HFC245fa')\n",
    "species_name_mapping['HFC-32'] = species_name_mapping.pop('HFC32')\n",
    "species_name_mapping['HFC-365mfc'] = species_name_mapping.pop('HFC365mfc')\n",
    "species_name_mapping['HFC-4310mee'] = species_name_mapping.pop('HFC4310mee')\n",
    "species_name_mapping['CFC-11'] = species_name_mapping.pop('CFC11')\n",
    "species_name_mapping['CFC-12'] = species_name_mapping.pop('CFC12')\n",
    "species_name_mapping['CFC-113'] = species_name_mapping.pop('CFC113')\n",
    "species_name_mapping['CFC-114'] = species_name_mapping.pop('CFC114')\n",
    "species_name_mapping['CFC-115'] = species_name_mapping.pop('CFC115')\n",
    "species_name_mapping['HCFC-22'] = species_name_mapping.pop('HCFC22')\n",
    "species_name_mapping['HCFC-141b'] = species_name_mapping.pop('HCFC141b')\n",
    "species_name_mapping['HCFC-142b'] = species_name_mapping.pop('HCFC142b')\n",
    "species_name_mapping['Halon-1202'] = species_name_mapping.pop('Halon1202')\n",
    "species_name_mapping['Halon-1211'] = species_name_mapping.pop('Halon1211')\n",
    "species_name_mapping['Halon-1301'] = species_name_mapping.pop('Halon1301')\n",
    "species_name_mapping['Halon-2402'] = species_name_mapping.pop('Halon2402')\n",
    "species_name_mapping['c-C4F8'] = species_name_mapping.pop('cC4F8')"
   ]
  },
  {
   "cell_type": "code",
   "execution_count": null,
   "id": "0d398832",
   "metadata": {},
   "outputs": [],
   "source": [
    "# Jeebus, this is frustrating the lack of naming consistency\n",
    "species_name_mapping_future = copy.deepcopy(species_name_mapping)\n",
    "species_name_mapping_future['CO2 AFOLU'] = 'AFOLU'\n",
    "species_name_mapping_future['CO2 FFI'] = 'Energy and Industrial Processes'\n",
    "species_name_mapping_future['HFC-245fa'] = 'HFC245ca'  # this is an error?\n",
    "species_name_mapping_future['HFC-4310mee'] = 'HFC43-10'"
   ]
  },
  {
   "cell_type": "code",
   "execution_count": null,
   "id": "dda05f34",
   "metadata": {},
   "outputs": [],
   "source": [
    "# load up default list of species and their properties\n",
    "species, properties = read_properties()\n",
    "\n",
    "# drop aviation NOx and contrails as they are not in the future scenarios\n",
    "species.remove('Contrails')    # not modelled in UKESM, I think\n",
    "species.remove('NOx aviation') # which renders this redundant\n",
    "\n",
    "del properties['Contrails']\n",
    "del properties['NOx aviation']"
   ]
  },
  {
   "cell_type": "code",
   "execution_count": null,
   "id": "41777a65",
   "metadata": {},
   "outputs": [],
   "source": [
    "# argh, and the frigging daft units\n",
    "unit_convert = {specie: 1 for specie in species}\n",
    "unit_convert['CO2 AFOLU'] = 1/1000\n",
    "unit_convert['CO2 FFI'] = 1/1000\n",
    "unit_convert['N2O'] = 1/1000"
   ]
  },
  {
   "cell_type": "code",
   "execution_count": null,
   "id": "e693d8a1",
   "metadata": {},
   "outputs": [],
   "source": [
    "df_solar = pd.read_csv(\n",
    "    \"../data/solar_erf_timebounds.csv\", index_col=\"year\"\n",
    ")\n",
    "df_volcanic = pd.read_csv(\n",
    "    \"../data/volcanic_ERF_monthly_-950001-201912.csv\"\n",
    ")"
   ]
  },
  {
   "cell_type": "code",
   "execution_count": null,
   "id": "cdbd17b0",
   "metadata": {},
   "outputs": [],
   "source": [
    "solar_forcing = np.zeros(352)\n",
    "volcanic_forcing = np.zeros(352)\n",
    "for i, year in enumerate(np.arange(1750, 2021)):\n",
    "    volcanic_forcing[i] = np.mean(\n",
    "        df_volcanic.loc[\n",
    "            ((year - 1) <= df_volcanic[\"year\"]) & (df_volcanic[\"year\"] < year)\n",
    "        ].erf\n",
    "    )\n",
    "volcanic_forcing[271:281] = np.linspace(1, 0, 10) * volcanic_forcing[270]\n",
    "solar_forcing = df_solar[\"erf\"].loc[1750:2101].values"
   ]
  },
  {
   "cell_type": "code",
   "execution_count": null,
   "id": "0a46bbd8",
   "metadata": {},
   "outputs": [],
   "source": [
    "gap = 10\n",
    "\n",
    "for firstscen in tqdm(range(0, 97, gap)):\n",
    "    f = FAIR(ch4_method='thornhill2021')\n",
    "    f.define_time(1750, 2101, 1)\n",
    "    scenarios = all_scenarios[firstscen:firstscen+gap]\n",
    "    f.define_scenarios(scenarios)\n",
    "    f.define_configs(list(fair_params_df.index))\n",
    "\n",
    "    # declare species and properties\n",
    "    f.define_species(species, properties)\n",
    "    \n",
    "    f.allocate()\n",
    "    \n",
    "    for scenario in scenarios:\n",
    "        for specie, pipeline_name in species_name_mapping.items():\n",
    "            f.emissions.loc[\n",
    "                dict(scenario=scenario, specie=specie, timepoints=np.arange(1750.5, 2015))\n",
    "            ] = hist_df.loc[hist_df['Variable'].str.endswith(f\"|{pipeline_name}\"), '1750':'2014'].values.T * unit_convert[specie]\n",
    "            model, scen = scenario.split('___')\n",
    "            f.emissions.loc[\n",
    "                dict(scenario=scenario, specie=specie, timepoints=np.arange(2015.5, 2101))\n",
    "            ] = scen_df.loc[\n",
    "                (scen_df['Variable'].str.endswith(f\"|{species_name_mapping_future[specie]}\")) &\n",
    "                (scen_df['Scenario']==scen) &\n",
    "                (scen_df['Model']==model),\n",
    "                '2015':'2100'\n",
    "            ].values.T * unit_convert[specie]\n",
    "    \n",
    "    # Put volcanic forcing into FaIR\n",
    "    fill(\n",
    "        f.forcing, \n",
    "        volcanic_forcing[:, None, None] * fair_params_df.loc[:, 'scale Volcanic'].values[None, None, :], \n",
    "        specie='Volcanic'\n",
    "    )\n",
    "    \n",
    "    # Put solar forcing into FaIR\n",
    "    trend_shape = np.ones(352)\n",
    "    trend_shape[:271] = np.linspace(0, 1, 271)\n",
    "\n",
    "    fill(f.forcing, \n",
    "         solar_forcing[:, None, None] * \n",
    "         fair_params_df.loc[:, 'solar_amplitude'].values.squeeze() + \n",
    "         trend_shape[:, None, None] * fair_params_df.loc[:, 'solar_trend'].values.squeeze(),\n",
    "         specie='Solar'\n",
    "    )\n",
    "    \n",
    "    # Get default species configs\n",
    "    f.fill_species_configs()\n",
    "\n",
    "    # Climate response\n",
    "    fill(f.climate_configs['ocean_heat_capacity'], fair_params_df.loc[:,'c1':'c3'])\n",
    "    fill(f.climate_configs['ocean_heat_transfer'], fair_params_df.loc[:,'kappa1':'kappa3'])\n",
    "    fill(f.climate_configs['deep_ocean_efficacy'], fair_params_df.loc[:,'epsilon'])\n",
    "    fill(f.climate_configs['gamma_autocorrelation'], fair_params_df.loc[:,'gamma'])\n",
    "    fill(f.climate_configs['stochastic_run'], False)\n",
    "\n",
    "    # carbon cycle\n",
    "    fill(f.species_configs['iirf_0'], fair_params_df.loc[:, 'r0'].values.squeeze(), specie='CO2')\n",
    "    fill(f.species_configs['iirf_airborne'], fair_params_df.loc[:, 'rA'].values.squeeze(), specie='CO2')\n",
    "    fill(f.species_configs['iirf_uptake'], fair_params_df.loc[:, 'rU'].values.squeeze(), specie='CO2')\n",
    "    fill(f.species_configs['iirf_temperature'], fair_params_df.loc[:, 'rT'].values.squeeze(), specie='CO2')\n",
    "\n",
    "    # aerosol direct\n",
    "    for specie in ['BC', 'CH4', 'N2O', 'NH3', 'NOx', 'OC', 'Sulfur', 'VOC', 'Equivalent effective stratospheric chlorine']:\n",
    "        fill(f.species_configs['erfari_radiative_efficiency'], fair_params_df.loc[:, f'ari {specie}'].values.squeeze(), specie=specie)\n",
    "\n",
    "    # aerosol indirect\n",
    "    fill(f.species_configs['aci_scale'], fair_params_df.loc[:, 'beta'].values.squeeze())\n",
    "    fill(f.species_configs['aci_shape'], fair_params_df.loc[:, 'shape Sulfur'].values.squeeze(), specie='Sulfur')\n",
    "    fill(f.species_configs['aci_shape'], fair_params_df.loc[:, 'shape BC'].values.squeeze(), specie='BC')\n",
    "    fill(f.species_configs['aci_shape'], fair_params_df.loc[:, 'shape OC'].values.squeeze(), specie='OC')\n",
    "\n",
    "    # ozone\n",
    "    for specie in ['CH4', 'N2O', 'Equivalent effective stratospheric chlorine', 'CO', 'VOC', 'NOx']:\n",
    "        fill(f.species_configs['ozone_radiative_efficiency'], fair_params_df.loc[:, f'o3 {specie}'], specie=specie)\n",
    "\n",
    "    # methane lifetime baseline\n",
    "    fill(f.species_configs['unperturbed_lifetime'], 10.11702748, specie='CH4')\n",
    "\n",
    "    # emissions adjustments for N2O and CH4 \n",
    "    fill(f.species_configs[\"baseline_emissions\"], 19.019783117809567, specie=\"CH4\")\n",
    "    fill(f.species_configs[\"baseline_emissions\"], 0.08602230754, specie=\"N2O\")\n",
    "\n",
    "    # forcing scaling\n",
    "    for specie in ['CO2', 'CH4', 'N2O', 'Stratospheric water vapour', 'Light absorbing particles on snow and ice', 'Land use']:\n",
    "        fill(f.species_configs['forcing_scale'], fair_params_df.loc[:, f'scale {specie}'].values.squeeze(), specie=specie)\n",
    "    for specie in ['CFC-11', 'CFC-12', 'CFC-113', 'CFC-114', 'CFC-115', 'HCFC-22', 'HCFC-141b', 'HCFC-142b',\n",
    "        'CCl4', 'CHCl3', 'CH2Cl2', 'CH3Cl', 'CH3CCl3', 'CH3Br', 'Halon-1211', 'Halon-1301', 'Halon-2402',\n",
    "        'CF4', 'C2F6', 'C3F8', 'c-C4F8', 'C4F10', 'C5F12', 'C6F14', 'C7F16', 'C8F18', 'NF3', 'SF6', 'SO2F2',\n",
    "        'HFC-125', 'HFC-134a', 'HFC-143a', 'HFC-152a', 'HFC-227ea', 'HFC-23', 'HFC-236fa', 'HFC-245fa', 'HFC-32',\n",
    "        'HFC-365mfc', 'HFC-4310mee']:\n",
    "        fill(f.species_configs['forcing_scale'], fair_params_df.loc[:, 'scale minorGHG'].values.squeeze(), specie=specie)\n",
    "\n",
    "    # tune down volcanic efficacy\n",
    "    fill(f.species_configs['forcing_efficacy'], 0.6, specie='Volcanic')\n",
    "\n",
    "    # initial condition of CO2 concentration (but not baseline for forcing calculations)\n",
    "    fill(\n",
    "        f.species_configs['baseline_concentration'], \n",
    "        fair_params_df.loc[:, 'co2_concentration_1750'].values.squeeze(),\n",
    "        specie='CO2'\n",
    "    )\n",
    "\n",
    "    # I don't usually do this, but this is for consistency with CO2-only method\n",
    "    fill(f.species_configs['forcing_reference_concentration'], 729.2, specie='CH4')\n",
    "    fill(f.species_configs['forcing_reference_concentration'], 270.1, specie='N2O')\n",
    "    \n",
    "    # set initial conditions\n",
    "    initialise(f.concentration, f.species_configs['baseline_concentration'])\n",
    "    initialise(f.forcing, 0)\n",
    "    initialise(f.temperature, 0)\n",
    "    initialise(f.airborne_emissions, 0)\n",
    "    initialise(f.cumulative_emissions, 0)\n",
    "    \n",
    "    f.run()\n",
    "    temp[:, firstscen:firstscen+gap, :] = f.temperature[245:, :, :, 0] - f.temperature[100:151, :, :, 0].mean(axis=0)\n",
    "    co2_emissions[:, firstscen:firstscen+gap] = f.emissions[245:, :, 0, 2]\n",
    "    co2_cumulative[:, firstscen:firstscen+gap] = f.cumulative_emissions[245:, :, 0, 2]"
   ]
  },
  {
   "cell_type": "code",
   "execution_count": null,
   "id": "1a365160",
   "metadata": {},
   "outputs": [],
   "source": [
    "np.save('../data/temp_c1.npy', temp)\n",
    "np.save('../data/co2_cumulative_c1.npy', co2_cumulative)\n",
    "np.save('../data/co2_emissions_c1.npy', co2_emissions)"
   ]
  }
 ],
 "metadata": {
  "kernelspec": {
   "display_name": "Python 3 (ipykernel)",
   "language": "python",
   "name": "python3"
  },
  "language_info": {
   "codemirror_mode": {
    "name": "ipython",
    "version": 3
   },
   "file_extension": ".py",
   "mimetype": "text/x-python",
   "name": "python",
   "nbconvert_exporter": "python",
   "pygments_lexer": "ipython3",
   "version": "3.11.3"
  }
 },
 "nbformat": 4,
 "nbformat_minor": 5
}
