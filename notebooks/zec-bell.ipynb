{
 "cells": [
  {
   "cell_type": "code",
   "execution_count": null,
   "id": "0",
   "metadata": {},
   "outputs": [],
   "source": [
    "import copy\n",
    "\n",
    "from fair import FAIR\n",
    "from fair.interface import fill, initialise\n",
    "from fair.io import read_properties\n",
    "import pandas as pd\n",
    "import numpy as np\n",
    "import matplotlib.pyplot as pl\n",
    "from tqdm.auto import tqdm\n",
    "from scipy.stats import linregress\n",
    "import xarray as xr"
   ]
  },
  {
   "cell_type": "code",
   "execution_count": null,
   "id": "1",
   "metadata": {},
   "outputs": [],
   "source": [
    "f = FAIR()"
   ]
  },
  {
   "cell_type": "code",
   "execution_count": null,
   "id": "2",
   "metadata": {},
   "outputs": [],
   "source": [
    "f.define_time(0, 1110, 1)"
   ]
  },
  {
   "cell_type": "code",
   "execution_count": null,
   "id": "3",
   "metadata": {},
   "outputs": [],
   "source": [
    "scenarios = ['esm-bell-750PgC', 'esm-bell-1000PgC', 'esm-bell-2000PgC']"
   ]
  },
  {
   "cell_type": "code",
   "execution_count": null,
   "id": "4",
   "metadata": {},
   "outputs": [],
   "source": [
    "f.define_scenarios(scenarios)\n",
    "fair_params_df = pd.read_csv('../data/calibrated_constrained_parameters_1.4.1.csv', index_col=0)"
   ]
  },
  {
   "cell_type": "code",
   "execution_count": null,
   "id": "5",
   "metadata": {},
   "outputs": [],
   "source": [
    "emis_df = pd.read_csv('../data/esm-bell_emissions.csv', index_col=0)"
   ]
  },
  {
   "cell_type": "code",
   "execution_count": null,
   "id": "6",
   "metadata": {},
   "outputs": [],
   "source": [
    "f.define_configs(list(fair_params_df.index))"
   ]
  },
  {
   "cell_type": "code",
   "execution_count": null,
   "id": "7",
   "metadata": {},
   "outputs": [],
   "source": [
    "species = ['CO2', 'CH4', 'N2O']\n",
    "properties = {\n",
    "    \"CO2\": {\n",
    "        'type': 'co2',\n",
    "        'input_mode': 'emissions',\n",
    "        'greenhouse_gas': True,\n",
    "        'aerosol_chemistry_from_emissions': False,\n",
    "        'aerosol_chemistry_from_concentration': False\n",
    "    },\n",
    "    \"CH4\": {\n",
    "        'type': 'ch4',\n",
    "        'input_mode': 'emissions',\n",
    "        'greenhouse_gas': True,\n",
    "        'aerosol_chemistry_from_emissions': False,\n",
    "        'aerosol_chemistry_from_concentration': False\n",
    "    },\n",
    "    \"N2O\": {\n",
    "        'type': 'n2o',\n",
    "        'input_mode': 'emissions',\n",
    "        'greenhouse_gas': True,\n",
    "        'aerosol_chemistry_from_emissions': False,\n",
    "        'aerosol_chemistry_from_concentration': False\n",
    "    }\n",
    "}"
   ]
  },
  {
   "cell_type": "code",
   "execution_count": null,
   "id": "8",
   "metadata": {},
   "outputs": [],
   "source": [
    "# declare species and properties\n",
    "f.define_species(species, properties)"
   ]
  },
  {
   "cell_type": "code",
   "execution_count": null,
   "id": "9",
   "metadata": {},
   "outputs": [],
   "source": [
    "f.allocate()"
   ]
  },
  {
   "cell_type": "code",
   "execution_count": null,
   "id": "10",
   "metadata": {},
   "outputs": [],
   "source": [
    "f.concentration.loc[dict(specie='CH4')] = 808.2490285\n",
    "f.concentration.loc[dict(specie='N2O')] = 273.021047"
   ]
  },
  {
   "cell_type": "code",
   "execution_count": null,
   "id": "11",
   "metadata": {},
   "outputs": [],
   "source": [
    "# Get default species configs\n",
    "f.fill_species_configs()\n",
    "\n",
    "# Climate response\n",
    "fill(f.climate_configs['ocean_heat_capacity'], fair_params_df.loc[:,'ocean_heat_capacity[0]':'ocean_heat_capacity[2]'])\n",
    "fill(f.climate_configs['ocean_heat_transfer'], fair_params_df.loc[:,'ocean_heat_transfer[0]':'ocean_heat_transfer[2]'])\n",
    "fill(f.climate_configs['deep_ocean_efficacy'], fair_params_df.loc[:,'deep_ocean_efficacy'])\n",
    "fill(f.climate_configs['gamma_autocorrelation'], fair_params_df.loc[:,'gamma_autocorrelation'])\n",
    "fill(f.climate_configs['stochastic_run'], False)\n",
    "\n",
    "# carbon cycle\n",
    "fill(f.species_configs['iirf_0'], fair_params_df.loc[:, 'iirf_0[CO2]'].values.squeeze(), specie='CO2')\n",
    "fill(f.species_configs['iirf_airborne'], fair_params_df.loc[:, 'iirf_airborne[CO2]'].values.squeeze(), specie='CO2')\n",
    "fill(f.species_configs['iirf_uptake'], fair_params_df.loc[:, 'iirf_uptake[CO2]'].values.squeeze(), specie='CO2')\n",
    "fill(f.species_configs['iirf_temperature'], fair_params_df.loc[:, 'iirf_temperature[CO2]'].values.squeeze(), specie='CO2')\n",
    "\n",
    "# Scale CO2 forcing based on its 4xCO2 calibration\n",
    "fill(f.species_configs[\"forcing_scale\"], fair_params_df[\"forcing_scale[CO2]\"].values.squeeze(), specie='CO2')\n",
    "\n",
    "# initial condition of CO2 concentration (but not baseline for forcing calculations)\n",
    "fill(f.species_configs['baseline_concentration'], 284.3169988, specie='CO2')\n",
    "fill(f.species_configs['baseline_concentration'], 808.2490285, specie='CH4')\n",
    "fill(f.species_configs['baseline_concentration'], 273.021047, specie='N2O')"
   ]
  },
  {
   "cell_type": "code",
   "execution_count": null,
   "id": "12",
   "metadata": {},
   "outputs": [],
   "source": [
    "fill(f.species_configs['forcing_reference_concentration'], 284.3169988, specie='CO2')\n",
    "fill(f.species_configs['forcing_reference_concentration'], 808.2490285, specie='CH4')\n",
    "fill(f.species_configs['forcing_reference_concentration'], 273.021047, specie='N2O')"
   ]
  },
  {
   "cell_type": "code",
   "execution_count": null,
   "id": "13",
   "metadata": {},
   "outputs": [],
   "source": [
    "f.species_configs"
   ]
  },
  {
   "cell_type": "code",
   "execution_count": null,
   "id": "14",
   "metadata": {},
   "outputs": [],
   "source": [
    "# set initial conditions\n",
    "initialise(f.concentration, f.species_configs['baseline_concentration'])\n",
    "initialise(f.forcing, 0)\n",
    "initialise(f.temperature, 0)\n",
    "initialise(f.airborne_emissions, 0)\n",
    "initialise(f.cumulative_emissions, 0)"
   ]
  },
  {
   "cell_type": "code",
   "execution_count": null,
   "id": "15",
   "metadata": {},
   "outputs": [],
   "source": [
    "f.emissions.loc[dict(specie='CO2')] = emis_df.values[..., None]\n",
    "f.emissions.loc[dict(specie='CH4')] = 0\n",
    "f.emissions.loc[dict(specie='N2O')] = 0"
   ]
  },
  {
   "cell_type": "code",
   "execution_count": null,
   "id": "16",
   "metadata": {},
   "outputs": [],
   "source": [
    "f.run()"
   ]
  },
  {
   "cell_type": "code",
   "execution_count": null,
   "id": "17",
   "metadata": {},
   "outputs": [],
   "source": [
    "f.forcing"
   ]
  },
  {
   "cell_type": "code",
   "execution_count": null,
   "id": "18",
   "metadata": {},
   "outputs": [],
   "source": [
    "pl.plot(f.temperature[100:,0,:,0] - f.temperature[100,0,:,0]);"
   ]
  },
  {
   "cell_type": "code",
   "execution_count": null,
   "id": "19",
   "metadata": {},
   "outputs": [],
   "source": [
    "pl.plot(f.temperature[100:,1,:,0] - f.temperature[100,1,:,0]);"
   ]
  },
  {
   "cell_type": "code",
   "execution_count": null,
   "id": "20",
   "metadata": {},
   "outputs": [],
   "source": [
    "pl.plot(f.temperature[100:,2,:,0] - f.temperature[100,2,:,0]);"
   ]
  },
  {
   "cell_type": "code",
   "execution_count": null,
   "id": "21",
   "metadata": {},
   "outputs": [],
   "source": [
    "# ZEC50\n",
    "pl.hist(f.temperature[150,0,:,0] - f.temperature[100,0,:,0], alpha=0.4, bins=np.arange(-0.8, 1.1, 0.02))\n",
    "pl.hist(f.temperature[150,1,:,0] - f.temperature[100,1,:,0], alpha=0.4, bins=np.arange(-0.8, 1.1, 0.02))\n",
    "pl.hist(f.temperature[150,2,:,0] - f.temperature[100,2,:,0], alpha=0.4, bins=np.arange(-0.8, 1.1, 0.02))\n",
    "print(np.percentile(f.temperature[150,0,:,0] - f.temperature[100,0,:,0], (5,50,95)))\n",
    "print(np.percentile(f.temperature[150,1,:,0] - f.temperature[100,1,:,0], (5,50,95)))\n",
    "print(np.percentile(f.temperature[150,2,:,0] - f.temperature[100,2,:,0], (5,50,95)))"
   ]
  },
  {
   "cell_type": "code",
   "execution_count": null,
   "id": "22",
   "metadata": {},
   "outputs": [],
   "source": [
    "# ZEC100\n",
    "pl.hist(f.temperature[200,0,:,0] - f.temperature[100,0,:,0], alpha=0.4, bins=np.arange(-0.8, 1.1, 0.02))\n",
    "pl.hist(f.temperature[200,1,:,0] - f.temperature[100,1,:,0], alpha=0.4, bins=np.arange(-0.8, 1.1, 0.02))\n",
    "pl.hist(f.temperature[200,2,:,0] - f.temperature[100,2,:,0], alpha=0.4, bins=np.arange(-0.8, 1.1, 0.02))\n",
    "print(np.percentile(f.temperature[200,0,:,0] - f.temperature[100,0,:,0], (5,50,95)))\n",
    "print(np.percentile(f.temperature[200,1,:,0] - f.temperature[100,1,:,0], (5,50,95)))\n",
    "print(np.percentile(f.temperature[200,2,:,0] - f.temperature[100,2,:,0], (5,50,95)))"
   ]
  },
  {
   "cell_type": "code",
   "execution_count": null,
   "id": "23",
   "metadata": {},
   "outputs": [],
   "source": [
    "pl.plot(f.concentration[:,1,:,0]);"
   ]
  },
  {
   "cell_type": "code",
   "execution_count": null,
   "id": "24",
   "metadata": {},
   "outputs": [],
   "source": [
    "pl.plot(f.forcing[:,1,:,0]);"
   ]
  },
  {
   "cell_type": "code",
   "execution_count": null,
   "id": "25",
   "metadata": {},
   "outputs": [],
   "source": [
    "f.temperature[150,0,12,0] - f.temperature[100,0,12,0]"
   ]
  },
  {
   "cell_type": "code",
   "execution_count": null,
   "id": "26",
   "metadata": {},
   "outputs": [],
   "source": [
    "f.temperature[150,0,:,0] - f.temperature[100,0,:,0]"
   ]
  },
  {
   "cell_type": "code",
   "execution_count": null,
   "id": "27",
   "metadata": {},
   "outputs": [],
   "source": [
    "f.ebms.ecs"
   ]
  },
  {
   "cell_type": "code",
   "execution_count": null,
   "id": "28",
   "metadata": {},
   "outputs": [],
   "source": [
    "f.ebms.tcr"
   ]
  },
  {
   "cell_type": "code",
   "execution_count": null,
   "id": "29",
   "metadata": {},
   "outputs": [],
   "source": [
    "f.concentration[150,1,:,0] - f.concentration[100,1,:,0]"
   ]
  },
  {
   "cell_type": "code",
   "execution_count": null,
   "id": "30",
   "metadata": {},
   "outputs": [],
   "source": [
    "pl.hist(f.concentration[150,1,:,0] - f.concentration[100,1,:,0]);"
   ]
  },
  {
   "cell_type": "code",
   "execution_count": null,
   "id": "31",
   "metadata": {},
   "outputs": [],
   "source": [
    "pl.hist(f.forcing[150,1,:,0] - f.forcing[100,1,:,0]);"
   ]
  },
  {
   "cell_type": "code",
   "execution_count": null,
   "id": "32",
   "metadata": {},
   "outputs": [],
   "source": [
    "df = pd.DataFrame(\n",
    "    np.array([\n",
    "        f.temperature[148,0,:,0] - f.temperature[100,0,:,0], \n",
    "        f.temperature[150,0,:,0] - f.temperature[100,0,:,0], \n",
    "        f.temperature[200,0,:,0] - f.temperature[100,0,:,0],\n",
    "        f.temperature[150,1,:,0] - f.temperature[100,1,:,0], \n",
    "        f.temperature[200,1,:,0] - f.temperature[100,1,:,0],\n",
    "        f.ebms.ecs,\n",
    "        f.ebms.tcr,\n",
    "        f.concentration[150,1,:,0] - f.concentration[100,1,:,0],\n",
    "        f.forcing[150,1,:,0] - f.forcing[100,1,:,0]\n",
    "    ]).T,\n",
    "    index=fair_params_df.index, \n",
    "    columns=['zec48_750', 'zec50_750', 'zec100_750', 'zec50_1000', 'zec100_1000', 'ecs', 'tcr', 'deltaco2conc50_1000', 'f50_1000']\n",
    ")"
   ]
  },
  {
   "cell_type": "code",
   "execution_count": null,
   "id": "33",
   "metadata": {},
   "outputs": [],
   "source": [
    "df.to_csv('../data/zec_esm-bell_ecs_tcr_co2.csv')"
   ]
  },
  {
   "cell_type": "code",
   "execution_count": null,
   "id": "34",
   "metadata": {},
   "outputs": [],
   "source": [
    "f.temperature"
   ]
  },
  {
   "cell_type": "code",
   "execution_count": null,
   "id": "35",
   "metadata": {},
   "outputs": [],
   "source": [
    "f.ebms.ecs"
   ]
  },
  {
   "cell_type": "code",
   "execution_count": null,
   "id": "36",
   "metadata": {},
   "outputs": [],
   "source": [
    "ds = xr.Dataset(\n",
    "    data_vars = dict(\n",
    "        temperature = ([\"scenario\", \"timebounds\", \"config\"], f.temperature[..., 0].data.transpose(1, 0, 2)),\n",
    "        ocean_heat_content = ([\"scenario\", \"timebounds\", \"config\"], f.ocean_heat_content_change.data.transpose(1, 0, 2)),\n",
    "        toa_imbalance = ([\"scenario\", \"timebounds\", \"config\"], f.toa_imbalance.data.transpose(1, 0, 2)),\n",
    "        carbon_uptake = ([\"scenario\", \"timebounds\", \"config\"], (f.cumulative_emissions - f.airborne_emissions)[..., 0].data.transpose(1, 0, 2)),\n",
    "        effective_radiative_forcing = ([\"scenario\", \"timebounds\", \"config\"], f.forcing_sum.data.transpose(1, 0, 2)),\n",
    "        concentration = ([\"scenario\", \"timebounds\", \"config\"], f.concentration[..., 0].data.transpose(1, 0, 2)),\n",
    "        ecs = ([\"config\"], f.ebms.ecs.data),\n",
    "        tcr = ([\"config\"], f.ebms.tcr.data),\n",
    "    ),\n",
    "    coords = dict(\n",
    "        timebounds = np.arange(1111),\n",
    "        config = fair_params_df.index,\n",
    "        scenario = ['1pct-branch-750PgC', '1pct-branch-1000PgC', '1pct-branch-2000PgC'],\n",
    "    ),\n",
    ")"
   ]
  },
  {
   "cell_type": "code",
   "execution_count": null,
   "id": "37",
   "metadata": {},
   "outputs": [],
   "source": [
    "ds"
   ]
  },
  {
   "cell_type": "code",
   "execution_count": null,
   "id": "38",
   "metadata": {},
   "outputs": [],
   "source": [
    "ds.to_netcdf('../data/1pct-bell.nc')"
   ]
  },
  {
   "cell_type": "code",
   "execution_count": null,
   "id": "39",
   "metadata": {},
   "outputs": [],
   "source": []
  }
 ],
 "metadata": {
  "kernelspec": {
   "display_name": "Python 3 (ipykernel)",
   "language": "python",
   "name": "python3"
  },
  "language_info": {
   "codemirror_mode": {
    "name": "ipython",
    "version": 3
   },
   "file_extension": ".py",
   "mimetype": "text/x-python",
   "name": "python",
   "nbconvert_exporter": "python",
   "pygments_lexer": "ipython3",
   "version": "3.13.1"
  }
 },
 "nbformat": 4,
 "nbformat_minor": 5
}
