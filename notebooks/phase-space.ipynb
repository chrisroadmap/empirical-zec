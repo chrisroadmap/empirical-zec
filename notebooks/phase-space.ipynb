{
 "cells": [
  {
   "cell_type": "code",
   "execution_count": null,
   "id": "4b27f110",
   "metadata": {},
   "outputs": [],
   "source": [
    "import pandas as pd\n",
    "import matplotlib.pyplot as pl\n",
    "import numpy as np\n",
    "import scipy.linalg\n",
    "from sklearn.metrics import r2_score"
   ]
  },
  {
   "cell_type": "code",
   "execution_count": null,
   "id": "bcec8ddb",
   "metadata": {},
   "outputs": [],
   "source": [
    "df = pd.read_csv('../data/zec_esm-cliff_ecs_tcr_co2.csv', index_col=0)"
   ]
  },
  {
   "cell_type": "code",
   "execution_count": null,
   "id": "9629d360",
   "metadata": {},
   "outputs": [],
   "source": [
    "df"
   ]
  },
  {
   "cell_type": "code",
   "execution_count": null,
   "id": "f0f68584",
   "metadata": {},
   "outputs": [],
   "source": [
    "df.tcr/df.ecs"
   ]
  },
  {
   "cell_type": "code",
   "execution_count": null,
   "id": "0fc19b24",
   "metadata": {},
   "outputs": [],
   "source": [
    "# Data from Chris Jones, email 31.5.2023\n",
    "tcr_ecs_all = np.array([0.487179487,0.49122807,0.395833333,0.583333333,0.555555556,0.642857143,0.5,0.615384615,0.666666667,0.681818182,0.535714286,0.620689655,0.705882353,0.5              ,0.514285714])\n",
    "zec50_all   = np.array([0.01,-0.13,0.06,-0.27,-0.08,-0.27,0.28,0.01,-0.07,0.29,-0.04,0.01,-0.06,-0.36,0.03])\n",
    "csink_all   = np.array([-0.45,-0.75,-0.8,-0.8,-0.75,-0.9,-0.6,-0.75,-0.75,-0.85,-1,-0.9,-0.7,-0.85,-0.6])\n",
    "\n",
    "chrisj_models = [\n",
    "    'access',\n",
    "    'canesm',\n",
    "    'cnrm',\n",
    "    'gfdl',\n",
    "    'miroc-es2l',\n",
    "    'mpi',\n",
    "    'ukesm',\n",
    "    'bern',\n",
    "    'dcess',\n",
    "    'iapras',\n",
    "    'loveclim',\n",
    "    'mesm',\n",
    "    'miroc-lite',\n",
    "    'pgenie',\n",
    "    'uvic',\n",
    "]\n",
    "\n",
    "esm_data_df = pd.DataFrame(\n",
    "    {\n",
    "        'tcr_ecs': tcr_ecs_all,\n",
    "        'zec50': zec50_all,\n",
    "        'csink': csink_all,\n",
    "    },\n",
    "    index = chrisj_models\n",
    ")\n",
    "esm_data_df"
   ]
  },
  {
   "cell_type": "code",
   "execution_count": null,
   "id": "ddd3e632",
   "metadata": {},
   "outputs": [],
   "source": [
    "# regular grid covering the domain of the data\n",
    "X,Y = np.meshgrid(\n",
    "    np.linspace(np.min(df.tcr/df.ecs), np.max(df.tcr/df.ecs)), \n",
    "    np.linspace(np.min(df.f50_1000), np.max(df.f50_1000))\n",
    ")\n",
    "XX = X.flatten()\n",
    "YY = Y.flatten()\n",
    "\n",
    "A = np.c_[df.tcr/df.ecs, df.f50_1000, np.ones_like(df.tcr/df.ecs)]\n",
    "C,_,_,_ = scipy.linalg.lstsq(A, df.zec50_1000)    # coefficients\n",
    "\n",
    "# evaluate it on grid\n",
    "Z = C[0]*X + C[1]*Y + C[2]"
   ]
  },
  {
   "cell_type": "code",
   "execution_count": null,
   "id": "1fdc1c1a",
   "metadata": {},
   "outputs": [],
   "source": [
    "# check https://stackoverflow.com/questions/57367352/how-to-fit-a-plane-to-a-3d-dataset-in-python for coefficients"
   ]
  },
  {
   "cell_type": "code",
   "execution_count": null,
   "id": "b63599ab",
   "metadata": {},
   "outputs": [],
   "source": [
    "fig = pl.figure()\n",
    "ax = fig.add_subplot(projection='3d')\n",
    "ax.scatter(df.tcr/df.ecs, df.f50_1000, df.zec50_1000)\n",
    "ax.scatter(esm_data_df.tcr_ecs, esm_data_df.csink, esm_data_df.zec50)\n",
    "ax.set_xlabel('TCR:ECS ratio')\n",
    "ax.set_ylabel('delta CO$_2$ forcing')\n",
    "ax.set_zlabel('ZEC50')\n",
    "ax.plot_surface(X, Y, Z, rstride=1, cstride=1, alpha=0.2)"
   ]
  },
  {
   "cell_type": "code",
   "execution_count": null,
   "id": "80d07a5e",
   "metadata": {},
   "outputs": [],
   "source": [
    "z_pred= C[0]*df.tcr/df.ecs + C[1]*df.f50_1000 + C[2]\n",
    "r2_score(df.zec50_1000, z_pred)"
   ]
  },
  {
   "cell_type": "code",
   "execution_count": null,
   "id": "2272f3a1",
   "metadata": {},
   "outputs": [],
   "source": [
    "def Adj_r2(Rsquared,n,p):\n",
    "#n = number of data points, p = independent variables\n",
    "    output = 1-(1-Rsquared)*(n-1)/(n-p-1)\n",
    "    return output\n",
    "\n",
    "Adj_r2(r2_score(df.zec50_1000, z_pred),1001,3)"
   ]
  },
  {
   "cell_type": "code",
   "execution_count": null,
   "id": "bc369a76",
   "metadata": {},
   "outputs": [],
   "source": [
    "Z"
   ]
  },
  {
   "cell_type": "code",
   "execution_count": null,
   "id": "2ea6506c",
   "metadata": {},
   "outputs": [],
   "source": [
    "pl.scatter(df.tcr/df.ecs, df.zec50_1000)\n",
    "pl.scatter(esm_data_df.tcr_ecs, esm_data_df.zec50)\n",
    "pl.xlabel('TCR:ECS ratio')\n",
    "pl.ylabel('ZEC50')"
   ]
  },
  {
   "cell_type": "code",
   "execution_count": null,
   "id": "c55eb8c9",
   "metadata": {},
   "outputs": [],
   "source": [
    "pl.scatter(df.f50_1000, df.zec50_1000)\n",
    "pl.scatter(esm_data_df.csink, esm_data_df.zec50)\n",
    "pl.xlabel('Change in CO$_2$ radiative forcing, 50 years after net zero')\n",
    "pl.ylabel('ZEC50')"
   ]
  },
  {
   "cell_type": "code",
   "execution_count": null,
   "id": "1d7286a7",
   "metadata": {},
   "outputs": [],
   "source": []
  }
 ],
 "metadata": {
  "kernelspec": {
   "display_name": "Python 3 (ipykernel)",
   "language": "python",
   "name": "python3"
  },
  "language_info": {
   "codemirror_mode": {
    "name": "ipython",
    "version": 3
   },
   "file_extension": ".py",
   "mimetype": "text/x-python",
   "name": "python",
   "nbconvert_exporter": "python",
   "pygments_lexer": "ipython3",
   "version": "3.11.3"
  }
 },
 "nbformat": 4,
 "nbformat_minor": 5
}
