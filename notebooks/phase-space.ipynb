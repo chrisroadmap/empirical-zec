{
 "cells": [
  {
   "cell_type": "code",
   "execution_count": null,
   "id": "4b27f110",
   "metadata": {},
   "outputs": [],
   "source": [
    "import pandas as pd\n",
    "import matplotlib.pyplot as pl"
   ]
  },
  {
   "cell_type": "code",
   "execution_count": null,
   "id": "bcec8ddb",
   "metadata": {},
   "outputs": [],
   "source": [
    "df = pd.read_csv('../data/zec_esm-bell_ecs_tcr_co2.csv', index_col=0)"
   ]
  },
  {
   "cell_type": "code",
   "execution_count": null,
   "id": "9629d360",
   "metadata": {},
   "outputs": [],
   "source": [
    "df"
   ]
  },
  {
   "cell_type": "code",
   "execution_count": null,
   "id": "f0f68584",
   "metadata": {},
   "outputs": [],
   "source": [
    "df.tcr/df.ecs"
   ]
  },
  {
   "cell_type": "code",
   "execution_count": null,
   "id": "b63599ab",
   "metadata": {},
   "outputs": [],
   "source": [
    "fig = pl.figure()\n",
    "ax = fig.add_subplot(projection='3d')\n",
    "ax.scatter(df.tcr/df.ecs, df.deltaco2conc50_1000, df.zec50_1000)\n",
    "ax.set_xlabel('TCR:ECS ratio')\n",
    "ax.set_ylabel('delta CO$_2$')\n",
    "ax.set_zlabel('ZEC50')"
   ]
  },
  {
   "cell_type": "code",
   "execution_count": null,
   "id": "2ea6506c",
   "metadata": {},
   "outputs": [],
   "source": [
    "pl.scatter(df.tcr/df.ecs, df.zec50_1000)\n",
    "pl.xlabel('TCR:ECS ratio')\n",
    "pl.ylabel('ZEC50')"
   ]
  },
  {
   "cell_type": "code",
   "execution_count": null,
   "id": "c55eb8c9",
   "metadata": {},
   "outputs": [],
   "source": [
    "pl.scatter(df.deltaco2conc50_1000, df.zec50_1000)\n",
    "pl.xlabel('Change in CO$_2$ concentration, 50 years after net zero')\n",
    "pl.ylabel('ZEC50')"
   ]
  }
 ],
 "metadata": {
  "kernelspec": {
   "display_name": "Python 3 (ipykernel)",
   "language": "python",
   "name": "python3"
  },
  "language_info": {
   "codemirror_mode": {
    "name": "ipython",
    "version": 3
   },
   "file_extension": ".py",
   "mimetype": "text/x-python",
   "name": "python",
   "nbconvert_exporter": "python",
   "pygments_lexer": "ipython3",
   "version": "3.11.3"
  }
 },
 "nbformat": 4,
 "nbformat_minor": 5
}
